{
 "cells": [
  {
   "cell_type": "code",
   "execution_count": 311,
   "id": "32cf78e7",
   "metadata": {},
   "outputs": [],
   "source": [
    "import numpy as np\n",
    "import pandas as pd\n",
    "import matplotlib.pyplot as plt\n"
   ]
  },
  {
   "cell_type": "code",
   "execution_count": 312,
   "id": "abeab7e2",
   "metadata": {},
   "outputs": [],
   "source": [
    "from google.cloud import bigquery\n",
    "from google.oauth2 import service_account"
   ]
  },
  {
   "cell_type": "code",
   "execution_count": 313,
   "id": "c188511f",
   "metadata": {},
   "outputs": [],
   "source": [
    "key_path = './service_account/gentle-keyword-423715-j0-03be08ad6412.json'\n",
    "\n",
    "credentials = service_account.Credentials.from_service_account_file(\n",
    "    key_path,\n",
    "    scopes=[\"https://www.googleapis.com/auth/bigquery\"]\n",
    ")"
   ]
  },
  {
   "cell_type": "code",
   "execution_count": 314,
   "id": "c8d65037",
   "metadata": {},
   "outputs": [],
   "source": [
    "from google.cloud import bigquery\n",
    "\n",
    "client = bigquery.Client(\n",
    "    credentials = credentials,\n",
    "    project=credentials.project_id\n",
    ")"
   ]
  },
  {
   "cell_type": "code",
   "execution_count": 316,
   "id": "2b4248f6",
   "metadata": {},
   "outputs": [],
   "source": [
    "# Create dataset reference\n",
    "dataset_ref = client.dataset('google_analytics_sample', project='bigquery-public-data')\n",
    "# Retrieve dataset from reference\n",
    "dataset = client.get_dataset(dataset_ref)"
   ]
  },
  {
   "cell_type": "code",
   "execution_count": null,
   "id": "d2d54a56",
   "metadata": {},
   "outputs": [],
   "source": [
    "# Try if this connected\n",
    "\n",
    "query = \"\"\"\n",
    "SELECT *\n",
    "FROM `bigquery-public-data.google_analytics_sample.ga_sessions_20160801`\n",
    "LIMIT 5\n",
    "\"\"\"\n",
    "\n",
    "df = client.query(query).to_dataframe()\n",
    "print(df.info())\n",
    "df"
   ]
  },
  {
   "cell_type": "code",
   "execution_count": null,
   "id": "4b81c7d9",
   "metadata": {},
   "outputs": [],
   "source": [
    "# Get format schema nested field\n",
    "\n",
    "def format_schema_field(schema_field, indent=0):\n",
    "    indent_str = \"  \" * indent\n",
    "    field_info = f\"{indent_str}{schema_field.name} ({schema_field.field_type})\"\n",
    "    \n",
    "    if schema_field.mode != \"NULLABLE\":\n",
    "        field_info += f\" - {schema_field.mode}\"\n",
    "    \n",
    "    if schema_field.description:\n",
    "        field_info += f\" - {schema_field.description}\"\n",
    "    \n",
    "    nested_indent = indent + 2\n",
    "    if schema_field.field_type == \"RECORD\":\n",
    "        for sub_field in schema_field.fields:\n",
    "            field_info += \"\\n\" + format_schema_field(sub_field, nested_indent)\n",
    "    \n",
    "    return field_info\n",
    "\n",
    "\n",
    "table_ref = dataset_ref.table('ga_sessions_20160801')\n",
    "table = client.get_table(table_ref)\n",
    "\n",
    "# Display schemas\n",
    "print(\"SCHEMA field for the 'totals' column:\\n\")\n",
    "print(format_schema_field(table.schema[5]))\n",
    "print()\n",
    "\n",
    "print(\"\\nSCHEMA field for the 'trafficSource' column:\\n\")\n",
    "print(format_schema_field(table.schema[6]))\n",
    "print()\n",
    "\n",
    "print(\"\\nSCHEMA field for the 'device' column:\\n\")\n",
    "print(format_schema_field(table.schema[7]))\n",
    "print()\n",
    "\n",
    "print(\"\\nSCHEMA field for the 'geoNetwork' column:\\n\")\n",
    "print(format_schema_field(table.schema[8]))\n",
    "print()\n",
    "\n",
    "print(\"\\nSCHEMA field for the 'customDimensions' column:\\n\")\n",
    "print(format_schema_field(table.schema[9]))\n",
    "print()\n",
    "\n",
    "print(\"\\nSCHEMA field for the 'hits' column:\\n\")\n",
    "print(format_schema_field(table.schema[10]))"
   ]
  },
  {
   "cell_type": "code",
   "execution_count": null,
   "id": "1e0ad30f",
   "metadata": {},
   "outputs": [],
   "source": [
    "# Create data table from 'totals'\n",
    "\n",
    "query = \"\"\"\n",
    "SELECT\n",
    "  product.v2ProductName as product,\n",
    "  SUM(totals.hits) as total_hits,\n",
    "  SUM(totals.visits) as total_visits,\n",
    "  SUM(totals.pageviews) as total_page_views,\n",
    "  SUM(totals.newVisits) as total_first_visits,\n",
    "  SUM(totals.timeOnScreen) as total_time_on_screen,\n",
    "  AVG(totals.timeOnScreen) as avg_time_on_screen,\n",
    "  SUM(totals.timeOnSite) as total_time_on_site,\n",
    "  AVG(totals.timeOnSite) as avg_time_on_site,\n",
    "  SUM(totals.screenviews) as total_screen_views,\n",
    "  SUM(totals.transactions) as total_transactions,\n",
    "  SUM(totals.transactionRevenue) as total_revenue,\n",
    "  AVG(totals.transactionRevenue) as avg_revenue,\n",
    "  SUM(totals.uniqueScreenviews) as total_unique_screen_views,\n",
    "FROM `bigquery-public-data.google_analytics_sample.ga_sessions_*` h,\n",
    "    UNNEST(h.hits) hits,\n",
    "    UNNEST(hits.product) product\n",
    "WHERE \n",
    "  (_TABLE_SUFFIX BETWEEN '20160801' AND '20170801')\n",
    "  AND\n",
    "    (\n",
    "      hits.eCommerceAction.action_type != '0'\n",
    "      AND\n",
    "      hits.eCommerceAction.action_type != '3'\n",
    "      AND\n",
    "      hits.eCommerceAction.action_type != '4'\n",
    "    )\n",
    "  AND\n",
    "  (geoNetwork.country = 'United States')\n",
    "GROUP BY product\n",
    "\"\"\"\n",
    "\n",
    "df_totals = client.query(query).to_dataframe()\n",
    "print(df_totals.info())\n",
    "df_totals.head()"
   ]
  },
  {
   "cell_type": "code",
   "execution_count": null,
   "id": "69ca0e24",
   "metadata": {},
   "outputs": [],
   "source": [
    "df_totals = df_totals.dropna(axis=1, how='all').fillna(0)\n",
    "\n",
    "print(df_totals.info())\n",
    "df_totals.head()"
   ]
  },
  {
   "cell_type": "code",
   "execution_count": null,
   "id": "90485668",
   "metadata": {},
   "outputs": [],
   "source": [
    "df_totals.describe()"
   ]
  },
  {
   "cell_type": "code",
   "execution_count": null,
   "id": "784d04ec",
   "metadata": {},
   "outputs": [],
   "source": [
    "query = \"\"\"\n",
    "SELECT\n",
    "  product.v2ProductName as product,\n",
    "  CASE \n",
    "    WHEN hits.eCommerceAction.action_type = '1' THEN 'Click through of product lists'\n",
    "    WHEN hits.eCommerceAction.action_type = '2' THEN 'Product detail views'\n",
    "    WHEN hits.eCommerceAction.action_type = '5' THEN 'Check out'\n",
    "    WHEN hits.eCommerceAction.action_type = '6' THEN 'Completed purchase'\n",
    "  END as action,\n",
    "  trafficSource.medium as medium,\n",
    "FROM `bigquery-public-data.google_analytics_sample.ga_sessions_*` h,\n",
    "    UNNEST(h.hits) hits,\n",
    "    UNNEST(hits.product) product\n",
    "WHERE \n",
    "  (_TABLE_SUFFIX BETWEEN '20160801' AND '20170801')\n",
    "  AND\n",
    "    (\n",
    "      hits.eCommerceAction.action_type != '0'\n",
    "      AND\n",
    "      hits.eCommerceAction.action_type != '3'\n",
    "      AND\n",
    "      hits.eCommerceAction.action_type != '4'\n",
    "    )\n",
    "  AND\n",
    "    (geoNetwork.country = 'United States')\n",
    "\"\"\"\n",
    "\n",
    "df_hits_traffic = client.query(query).to_dataframe()\n",
    "print(df_hits_traffic.info())\n",
    "df_hits_traffic.head()"
   ]
  },
  {
   "cell_type": "code",
   "execution_count": null,
   "id": "9124aecf",
   "metadata": {},
   "outputs": [],
   "source": [
    "df_hits_traffic.drop(['medium', 'action'], axis=1)"
   ]
  },
  {
   "cell_type": "code",
   "execution_count": null,
   "id": "121c7f37",
   "metadata": {},
   "outputs": [],
   "source": [
    "df_ohe = pd.get_dummies(df_hits_traffic[['medium', 'action']], dtype=int)\n",
    "df_hit_traffic = pd.concat([df_hits_traffic.drop(['medium', 'action'], axis=1),\n",
    "                            df_ohe], axis=1)\n",
    "\n",
    "def modify_columns(array):\n",
    "    temp = []\n",
    "    for d in array:\n",
    "        temp.append(d.replace('(', '').replace(')', '').replace(' ', '_'))\n",
    "    return temp\n",
    "\n",
    "\n",
    "df_hit_traffic.columns = modify_columns(np.array(df_hit_traffic.columns))\n",
    "\n",
    "df_hit_traffic"
   ]
  },
  {
   "cell_type": "code",
   "execution_count": null,
   "id": "b9dc99eb",
   "metadata": {},
   "outputs": [],
   "source": [
    "df_hit_traffic = df_hit_traffic.groupby('product').sum().reset_index()\n",
    "\n",
    "print(df_hit_traffic.info())\n",
    "df_hit_traffic.head()"
   ]
  },
  {
   "cell_type": "code",
   "execution_count": null,
   "id": "dfd1ebbe",
   "metadata": {},
   "outputs": [],
   "source": [
    "df = pd.merge(df_totals, df_hit_traffic, how='outer', on='product')\n",
    "print(df.info())\n",
    "df.head()"
   ]
  },
  {
   "cell_type": "code",
   "execution_count": null,
   "id": "6c78bad4",
   "metadata": {},
   "outputs": [],
   "source": [
    "X = df.drop('product', axis=1)"
   ]
  },
  {
   "cell_type": "code",
   "execution_count": null,
   "id": "9717b85e",
   "metadata": {},
   "outputs": [],
   "source": [
    "from sklearn.ensemble import IsolationForest\n",
    "\n",
    "model = IsolationForest()\n",
    "model.fit(X)"
   ]
  },
  {
   "cell_type": "code",
   "execution_count": null,
   "id": "279dd7ea",
   "metadata": {},
   "outputs": [],
   "source": [
    "df_result = df.copy()\n",
    "\n",
    "# Result\n",
    "result = model.predict(X)\n",
    "\n",
    "df_result['anomaly'] = result\n",
    "print(df_result.info())\n",
    "df_result.head()"
   ]
  },
  {
   "cell_type": "code",
   "execution_count": null,
   "id": "3dd7f054",
   "metadata": {},
   "outputs": [],
   "source": [
    "df_result = df.copy()\n",
    "\n",
    "# Result\n",
    "result = model.predict(X)\n",
    "\n",
    "df_result['anomaly'] = result\n",
    "df_result['anomaly'] = df_result['anomaly'].map({1: 'Normal', -1: 'Anomaly'})"
   ]
  },
  {
   "cell_type": "code",
   "execution_count": null,
   "id": "a9bb600a",
   "metadata": {},
   "outputs": [],
   "source": [
    "# Scatter plot total_visits vs total_transactions\n",
    "import plotly.express as px\n",
    "\n",
    "fig = px.scatter(\n",
    "    x=df_result['total_visits'], \n",
    "    y=df_result['total_transactions'],\n",
    "    color=df_result['anomaly'],\n",
    "    title=\"Sample Scatter Plot\",\n",
    "    labels={'x': 'Total Visits', 'y': 'Total Transactions'}\n",
    ")\n",
    "\n",
    "# Show the plot\n",
    "fig.show()"
   ]
  },
  {
   "cell_type": "code",
   "execution_count": null,
   "id": "28c76f6e",
   "metadata": {},
   "outputs": [],
   "source": [
    "df_anomaly = df_result[df_result['anomaly'] == 'Anomaly']\n",
    "print(df_anomaly.info())\n",
    "df_anomaly.head()"
   ]
  },
  {
   "cell_type": "code",
   "execution_count": null,
   "id": "5bf89d85",
   "metadata": {
    "scrolled": false
   },
   "outputs": [],
   "source": [
    "# Scatter plot total_visits vs total_transactions\n",
    "\n",
    "fig = px.scatter(\n",
    "    x=df_anomaly['total_visits'], \n",
    "    y=df_anomaly['total_transactions'], \n",
    "    text=df_anomaly['product'], \n",
    "    title=\"Sample Scatter Plot\",\n",
    "    labels={'x': 'Total Visits', 'y': 'Total Transactions'}\n",
    ")\n",
    "\n",
    "# Show the plot\n",
    "fig.show()"
   ]
  },
  {
   "cell_type": "code",
   "execution_count": null,
   "id": "45ec8789",
   "metadata": {},
   "outputs": [],
   "source": [
    "df_anomaly.head()"
   ]
  },
  {
   "cell_type": "code",
   "execution_count": null,
   "id": "b73095bb",
   "metadata": {},
   "outputs": [],
   "source": [
    "# df_anomaly['first_visit_rate'] = df_anomaly['total_first_visits'] / df_anomaly['total_visits']\n",
    "\n",
    "# df_anomaly[['product', 'first_visit_rate']].head()"
   ]
  },
  {
   "cell_type": "code",
   "execution_count": null,
   "id": "31531e43",
   "metadata": {},
   "outputs": [],
   "source": [
    "anomaly = df_anomaly.sort_values(by='total_transactions', ascending=False)['product'].values\n",
    "anomaly"
   ]
  },
  {
   "cell_type": "code",
   "execution_count": null,
   "id": "fd114f7e",
   "metadata": {},
   "outputs": [],
   "source": [
    "len(anomaly)"
   ]
  },
  {
   "cell_type": "code",
   "execution_count": null,
   "id": "69fa38de",
   "metadata": {},
   "outputs": [],
   "source": [
    "# Select top anomaly item from last 3 months\n",
    "\n",
    "query = f\"\"\"\n",
    "SELECT \n",
    "  products.v2ProductName as product,\n",
    "  SUM(totals.visits) as total_visits,\n",
    "  SUM(totals.newVisits) as total_first_visits,\n",
    "  SUM(totals.transactions) as total_transactions,\n",
    "  SUM(totals.transactionRevenue) as total_revenue,\n",
    "FROM `bigquery-public-data.google_analytics_sample.ga_sessions_*` h,\n",
    "    UNNEST(h.hits) hits,\n",
    "    UNNEST(hits.product) products\n",
    "WHERE \n",
    "  (_TABLE_SUFFIX BETWEEN '20170601' AND '20170801')\n",
    "  AND\n",
    "    (\n",
    "      hits.eCommerceAction.action_type != '0'\n",
    "      AND\n",
    "      hits.eCommerceAction.action_type != '3'\n",
    "      AND\n",
    "      hits.eCommerceAction.action_type != '4'\n",
    "    )\n",
    "  AND\n",
    "  (geoNetwork.country = 'United States')\n",
    "  AND\n",
    "  products.v2ProductName IN {tuple(anomaly)}\n",
    "GROUP BY product\n",
    "ORDER BY total_first_visits, total_visits DESC\n",
    "\"\"\"\n",
    "\n",
    "df_anomaly_3months = client.query(query).to_dataframe()\n",
    "print(df_anomaly_3months.info())\n",
    "df_anomaly_3months.head()"
   ]
  },
  {
   "cell_type": "code",
   "execution_count": null,
   "id": "419dd671",
   "metadata": {},
   "outputs": [],
   "source": [
    "# df_anomaly_3months['first_visit_rate'] = df_anomaly_3months['total_first_visits'] / df_anomaly_3months['total_visits']"
   ]
  },
  {
   "cell_type": "code",
   "execution_count": null,
   "id": "8421d6f2",
   "metadata": {},
   "outputs": [],
   "source": [
    "# df_anomaly_3months = df_anomaly_3months[(df_anomaly_3months['first_visit_rate'] > 0.5) \n",
    "#                                         & (df_anomaly_3months['total_visits'] > 800)]"
   ]
  },
  {
   "cell_type": "code",
   "execution_count": null,
   "id": "4a1f08b9",
   "metadata": {},
   "outputs": [],
   "source": [
    "df_anomaly_3months.sort_values(by='total_transactions', ascending=False).head(20)"
   ]
  },
  {
   "cell_type": "code",
   "execution_count": null,
   "id": "566c7802",
   "metadata": {},
   "outputs": [],
   "source": [
    "anomaly_3months = df_anomaly_3months.sort_values(by='total_transactions', ascending=False)['product'].head(20)\n",
    "print(len(anomaly_3months))\n",
    "anomaly_3months"
   ]
  },
  {
   "cell_type": "code",
   "execution_count": null,
   "id": "dbd04f47",
   "metadata": {},
   "outputs": [],
   "source": [
    "# Filtering for get the category\n",
    "query = f\"\"\"\n",
    "SELECT \n",
    "  products.v2ProductCategory as category,\n",
    "  products.v2ProductName as product,\n",
    "FROM `bigquery-public-data.google_analytics_sample.ga_sessions_*` h,\n",
    "    UNNEST(h.hits) hits,\n",
    "    UNNEST(hits.product) products\n",
    "WHERE \n",
    "  (_TABLE_SUFFIX BETWEEN '20170601' AND '20170801')\n",
    "  AND\n",
    "    (\n",
    "      hits.eCommerceAction.action_type != '0'\n",
    "      AND\n",
    "      hits.eCommerceAction.action_type != '3'\n",
    "      AND\n",
    "      hits.eCommerceAction.action_type != '4'\n",
    "    )\n",
    "  AND\n",
    "  (geoNetwork.country = 'United States')\n",
    "  AND\n",
    "  products.v2ProductName IN {tuple(anomaly_3months)}\n",
    "  GROUP BY product, category\n",
    "\"\"\"\n",
    "\n",
    "df_selection = client.query(query).to_dataframe()\n",
    "print(df.info())\n",
    "df_selection.head(20)"
   ]
  },
  {
   "cell_type": "code",
   "execution_count": null,
   "id": "9daaa71e",
   "metadata": {},
   "outputs": [],
   "source": [
    "def categorized(x):\n",
    "    category = []\n",
    "    categories = ['Accessories', 'Electronics', 'Office', 'Men\\'s', 'Women\\'s', 'Kid\\'s', 'Bags', 'Lifestyle', 'Apparel', 'Shop by Brand']\n",
    "    for i in x:\n",
    "        if i in categories:\n",
    "            category.append(i)\n",
    "    if len(category) == 0:\n",
    "        return None\n",
    "    return category[-1]\n",
    "\n",
    "df_selection['final_category'] = df_selection['category'].str.split('/').apply(categorized)\n",
    "\n",
    "df_selection = (df_selection[df_selection['product'].isin(selected)])[df_selection['final_category'].notna()]"
   ]
  },
  {
   "cell_type": "code",
   "execution_count": null,
   "id": "1c7ab815",
   "metadata": {},
   "outputs": [],
   "source": [
    "category_table = df_selection.groupby(['product','final_category'])\\\n",
    "                        .agg({'category': 'first'})\\\n",
    "                        .reset_index('final_category')\\\n",
    "                        .drop('category', axis=1)\n",
    "print(category_table.shape)\n",
    "category_table"
   ]
  },
  {
   "cell_type": "code",
   "execution_count": null,
   "id": "bc9d6d00",
   "metadata": {},
   "outputs": [],
   "source": [
    "# Updated anomaly value\n",
    "anomaly_3months = category_table['product'].unique()"
   ]
  },
  {
   "cell_type": "code",
   "execution_count": null,
   "id": "aa9b4947",
   "metadata": {},
   "outputs": [],
   "source": [
    "# anomaly_6months.to_csv('./result/anomaly_products.csv', index=False)"
   ]
  },
  {
   "cell_type": "code",
   "execution_count": null,
   "id": "7c9951b2",
   "metadata": {},
   "outputs": [],
   "source": [
    "# anomaly_6months.to_csv('./result/anomaly_products(1).csv', index=False)"
   ]
  },
  {
   "cell_type": "code",
   "execution_count": null,
   "id": "0b858454",
   "metadata": {},
   "outputs": [],
   "source": [
    "query = f\"\"\"\n",
    "SELECT\n",
    "  product.v2ProductName as product,\n",
    "  SUM(totals.hits) as total_hits,\n",
    "  SUM(totals.visits) as total_visits,\n",
    "  SUM(totals.pageviews) as total_page_views,\n",
    "  SUM(totals.newVisits) as total_first_visits,\n",
    "  SUM(totals.timeOnScreen) as total_time_on_screen,\n",
    "  AVG(totals.timeOnScreen) as avg_time_on_screen,\n",
    "  SUM(totals.timeOnSite) as total_time_on_site,\n",
    "  AVG(totals.timeOnSite) as avg_time_on_site,\n",
    "  SUM(totals.screenviews) as total_screen_views,\n",
    "  SUM(totals.transactions) as total_transactions,\n",
    "  SUM(totals.transactionRevenue) as total_revenue,\n",
    "  AVG(totals.transactionRevenue) as avg_revenue,\n",
    "  SUM(totals.uniqueScreenviews) as total_unique_screen_views,\n",
    "FROM `bigquery-public-data.google_analytics_sample.ga_sessions_*` h,\n",
    "    UNNEST(h.hits) hits,\n",
    "    UNNEST(hits.product) product\n",
    "WHERE \n",
    "  (_TABLE_SUFFIX BETWEEN '20170601' AND '20170801')\n",
    "  AND\n",
    "    (\n",
    "      hits.eCommerceAction.action_type != '0'\n",
    "      AND\n",
    "      hits.eCommerceAction.action_type != '3'\n",
    "      AND\n",
    "      hits.eCommerceAction.action_type != '4'\n",
    "    )\n",
    "  AND\n",
    "  (geoNetwork.country = 'United States')\n",
    "  AND\n",
    "  (products.v2ProductName IN {tuple(anomaly_3months)})\n",
    "GROUP BY product\n",
    "\"\"\"\n",
    "\n",
    "df_3months_totals = client.query(query)\n",
    "print(df_3months_totals.info())\n",
    "df_3months_totals.head()"
   ]
  },
  {
   "cell_type": "code",
   "execution_count": null,
   "id": "167d3cc2",
   "metadata": {},
   "outputs": [],
   "source": [
    "query = \"\"\"\n",
    "SELECT\n",
    "  CASE \n",
    "    WHEN hits.eCommerceAction.action_type = '1' THEN 'Click through of product lists'\n",
    "    WHEN hits.eCommerceAction.action_type = '2' THEN 'Product detail views'\n",
    "    WHEN hits.eCommerceAction.action_type = '5' THEN 'Check out'\n",
    "    WHEN hits.eCommerceAction.action_type = '6' THEN 'Completed purchase'\n",
    "  END as action,\n",
    "  products.v2ProductCategory as category,\n",
    "FROM `bigquery-public-data.google_analytics_sample.ga_sessions_*` h,\n",
    "    UNNEST(h.hits) hits,\n",
    "    UNNEST(hits.product) product\n",
    "WHERE \n",
    "  (_TABLE_SUFFIX BETWEEN '20170601' AND '20170801')\n",
    "  AND\n",
    "    (\n",
    "      hits.eCommerceAction.action_type != '0'\n",
    "      AND\n",
    "      hits.eCommerceAction.action_type != '3'\n",
    "      AND\n",
    "      hits.eCommerceAction.action_type != '4'\n",
    "    )\n",
    "  AND\n",
    "    (geoNetwork.country = 'United States')\n",
    "  AND\n",
    "  (products.v2ProductName IN {tuple(anomaly_3months)})\n",
    "\"\"\"\n",
    "\n",
    "df_3months_hits = client.query(query).to_dataframe()\n",
    "print(df_3months_hits.info())\n",
    "df_3months_hits.head()"
   ]
  },
  {
   "cell_type": "code",
   "execution_count": null,
   "id": "6e6f5b33",
   "metadata": {},
   "outputs": [],
   "source": [
    "df_ohe = pd.get_dummies(df_3months_hits[['action']], dtype=int)\n",
    "df_3months_hits = pd.concat([df_3months_hits.drop(['action'], axis=1),\n",
    "                            df_ohe], axis=1)\n",
    "\n",
    "def modify_columns(array):\n",
    "    temp = []\n",
    "    for d in array:\n",
    "        temp.append(d.replace('(', '').replace(')', '').replace(' ', '_'))\n",
    "    return temp\n",
    "\n",
    "\n",
    "df_3months_hits.columns = modify_columns(np.array(df_3months_hits.columns))\n",
    "\n",
    "df_3months_hits = df_3months_hits.groupby('product').sum().reset_index()\n",
    "\n",
    "print(df_3months_hits.info())\n",
    "df_3months_hits.head()"
   ]
  },
  {
   "cell_type": "code",
   "execution_count": null,
   "id": "6b125714",
   "metadata": {},
   "outputs": [],
   "source": [
    "df_3monhts = pd.merge(df_3months_totals, df_3months_hits, how='outer', on='product')\n",
    "print(df_3monhts.info())\n",
    "df_3monhts.head()"
   ]
  },
  {
   "cell_type": "code",
   "execution_count": null,
   "id": "b7fc5f9e",
   "metadata": {},
   "outputs": [],
   "source": [
    "df_example = example.to_dataframe()\n",
    "\n",
    "df_example = df_example[df_example['product'].isin(anomaly_6months.values)].reset_index(drop=True)\n",
    "df_example"
   ]
  },
  {
   "cell_type": "code",
   "execution_count": null,
   "id": "4738368f",
   "metadata": {
    "scrolled": true
   },
   "outputs": [],
   "source": [
    "df_example = df[df['product'].isin(anomaly_3months.values)].reset_index(drop=True)\n",
    "df_example"
   ]
  },
  {
   "cell_type": "code",
   "execution_count": null,
   "id": "0425ad01",
   "metadata": {},
   "outputs": [],
   "source": [
    "df_example.sort_values(by='total_revenue', ascending=False).head(20)['product'].values"
   ]
  },
  {
   "cell_type": "code",
   "execution_count": null,
   "id": "ea3fff3b",
   "metadata": {},
   "outputs": [],
   "source": [
    "df_example.info()"
   ]
  },
  {
   "cell_type": "code",
   "execution_count": null,
   "id": "f01de842",
   "metadata": {},
   "outputs": [],
   "source": [
    "# # Wait for the job to complete and get the result\n",
    "# results = example.result()\n",
    "\n",
    "# # Get the schema of the result\n",
    "# # schema = results.schema\n",
    "# schema = [\n",
    "#     bigquery.SchemaField(\"product\", \"STRING\"),\n",
    "#     bigquery.SchemaField(\"total_hits\", \"INTEGER\"),\n",
    "#     bigquery.SchemaField(\"total_visits\", \"INTEGER\"),\n",
    "#     bigquery.SchemaField(\"total_page_views\", \"INTEGER\"),\n",
    "#     bigquery.SchemaField(\"total_first_visits\", \"INTEGER\"),\n",
    "#     bigquery.SchemaField(\"total_time_on_site\", \"INTEGER\"),\n",
    "#     bigquery.SchemaField(\"avg_time_on_site\", \"FLOAT\"),\n",
    "#     bigquery.SchemaField(\"total_transactions\", \"INTEGER\"),\n",
    "#     bigquery.SchemaField(\"total_revenue\", \"INTEGER\"),\n",
    "#     bigquery.SchemaField(\"avg_revenue\", \"FLOAT\"),\n",
    "#     bigquery.SchemaField(\"medium_none\", \"INTEGER\"),\n",
    "#     bigquery.SchemaField(\"medium_not_set\", \"INTEGER\"),\n",
    "#     bigquery.SchemaField(\"medium_affiliate\", \"INTEGER\"),\n",
    "#     bigquery.SchemaField(\"medium_cpc\", \"INTEGER\"),\n",
    "#     bigquery.SchemaField(\"medium_cpm\", \"INTEGER\"),\n",
    "#     bigquery.SchemaField(\"medium_organic\", \"INTEGER\"),\n",
    "#     bigquery.SchemaField(\"medium_referral\", \"INTEGER\"),\n",
    "#     bigquery.SchemaField(\"action_Check_out\", \"INTEGER\"),\n",
    "#     bigquery.SchemaField(\"action_Click_through_of_product_lists\", \"INTEGER\"),\n",
    "#     bigquery.SchemaField(\"action_Completed_purchase\", \"INTEGER\"),\n",
    "#     bigquery.SchemaField(\"action_Product_detail_views\", \"INTEGER\")\n",
    "# ]\n",
    "\n",
    "# # Define the new table reference\n",
    "# project_id = credentials.project_id\n",
    "# dataset_id = 'dummy'\n",
    "# table_id = 'anomaly_selection'\n",
    "# table_ref = client.dataset(dataset_id, project=project_id).table(table_id)\n",
    "\n",
    "# # Delete the existing destination table if it exists\n",
    "# try:\n",
    "#     client.delete_table(table_ref)\n",
    "#     print(f\"Deleted table {table_ref}\")\n",
    "# except Exception as e:\n",
    "#     print(f\"Table {destination_table_ref} does not exist: {e}\")\n",
    "        \n",
    "# # Create a new table with the schema\n",
    "# table = bigquery.Table(table_ref, schema=schema)\n",
    "# table = client.create_table(table)  # API request\n",
    "\n",
    "\n",
    "# # Load DataFrame to BigQuery table\n",
    "# job = client.load_table_from_dataframe(df_example, table_ref)\n",
    "\n",
    "# # Wait for the load job to complete\n",
    "# job.result()\n",
    "\n",
    "# print(f\"Loaded {job.output_rows} rows into {dataset_id}:{table_id}.\")"
   ]
  },
  {
   "cell_type": "code",
   "execution_count": null,
   "id": "843faa9a",
   "metadata": {},
   "outputs": [],
   "source": [
    "len(schema)"
   ]
  },
  {
   "cell_type": "code",
   "execution_count": null,
   "id": "5dcb0b72",
   "metadata": {},
   "outputs": [],
   "source": [
    "df_example[df_example['product'] == 'Google Twill Cap']"
   ]
  },
  {
   "cell_type": "code",
   "execution_count": null,
   "id": "40091dfa",
   "metadata": {},
   "outputs": [],
   "source": [
    "query = \"\"\"\n",
    "SELECT\n",
    "  CASE \n",
    "    WHEN hit.eCommerceAction.action_type = '1' THEN 'Click through of product lists'\n",
    "    WHEN hit.eCommerceAction.action_type = '2' THEN 'Product detail views'\n",
    "    WHEN hit.eCommerceAction.action_type = '5' THEN 'Check out'\n",
    "    WHEN hit.eCommerceAction.action_type = '6' THEN 'Completed purchase'\n",
    "  END action,\n",
    "  COUNT(*) users\n",
    "FROM `bigquery-public-data.google_analytics_sample.ga_sessions_*` h,\n",
    "  UNNEST(h.hits) hit,\n",
    "  UNNEST(hit.product) product\n",
    "WHERE \n",
    "  _TABLE_SUFFIX BETWEEN '20160801' AND '20170801'\n",
    "  AND\n",
    "    (\n",
    "      hit.eCommerceAction.action_type != '0'\n",
    "      AND\n",
    "      hit.eCommerceAction.action_type != '3'\n",
    "      AND\n",
    "      hit.eCommerceAction.action_type != '4'\n",
    "    )\n",
    "    GROUP BY action\n",
    "    ORDER BY users DESC\n",
    "\"\"\"\n",
    "client.query(query).to_dataframe()"
   ]
  },
  {
   "cell_type": "code",
   "execution_count": null,
   "id": "a2a805f5",
   "metadata": {},
   "outputs": [],
   "source": [
    "query = \"\"\"\n",
    "SELECT\n",
    "  CASE \n",
    "    WHEN hits.eCommerceAction.action_type = '1' THEN 'Click through of product lists'\n",
    "    WHEN hits.eCommerceAction.action_type = '2' THEN 'Product detail views'\n",
    "    WHEN hits.eCommerceAction.action_type = '5' THEN 'Check out'\n",
    "    WHEN hits.eCommerceAction.action_type = '6' THEN 'Completed purchase'\n",
    "  END as action,\n",
    "  COUNT(*) users\n",
    "FROM `bigquery-public-data.google_analytics_sample.ga_sessions_*` h,\n",
    "    UNNEST(h.hits) hits,\n",
    "    UNNEST(hits.product) product\n",
    "WHERE \n",
    "  (_TABLE_SUFFIX BETWEEN '20160801' AND '20170801')\n",
    "  AND\n",
    "    (\n",
    "      hits.eCommerceAction.action_type != '0'\n",
    "      AND\n",
    "      hits.eCommerceAction.action_type != '3'\n",
    "      AND\n",
    "      hits.eCommerceAction.action_type != '4'\n",
    "    )\n",
    "  AND\n",
    "    (geoNetwork.country = 'United States')\n",
    "  AND\n",
    "    (product.v2ProductName = 'Sport Bag')\n",
    "    GROUP BY action\n",
    "\"\"\"\n",
    "\n",
    "client.query(query).to_dataframe()"
   ]
  },
  {
   "cell_type": "code",
   "execution_count": null,
   "id": "5aaa3ad8",
   "metadata": {},
   "outputs": [],
   "source": []
  }
 ],
 "metadata": {
  "kernelspec": {
   "display_name": "Python 3 (ipykernel)",
   "language": "python",
   "name": "python3"
  },
  "language_info": {
   "codemirror_mode": {
    "name": "ipython",
    "version": 3
   },
   "file_extension": ".py",
   "mimetype": "text/x-python",
   "name": "python",
   "nbconvert_exporter": "python",
   "pygments_lexer": "ipython3",
   "version": "3.11.4"
  }
 },
 "nbformat": 4,
 "nbformat_minor": 5
}
