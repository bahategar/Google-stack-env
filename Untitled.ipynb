{
 "cells": [
  {
   "cell_type": "markdown",
   "id": "9d9c5c67",
   "metadata": {},
   "source": [
    "# Introduction\n",
    "\n",
    "Goal\n",
    "\n",
    "The goal of this project is to act as a Data Analyst for the Google Merchandise Store, and analyze Google Analytics data from Bigquery using SQL. The period for this analysis will be 2016/8/1 - 2017/8/1.\n",
    "\n",
    "Site: https://shop.googlemerchandisestore.com/\n",
    "\n",
    "For this analysis we'll focus on 3 main goals:\n",
    "\n",
    "- Understand the composition of current site traffic\n",
    "- Understand the flow and conversion path of users\n",
    "- Forecast product demand"
   ]
  },
  {
   "cell_type": "code",
   "execution_count": 1,
   "id": "9557606b",
   "metadata": {},
   "outputs": [],
   "source": [
    "import pandas as pd\n",
    "import numpy as np\n",
    "import matplotlib.pyplot as plt\n",
    "import seaborn as sns\n",
    "\n",
    "import plotly.graph_objects as go\n",
    "import plotly.express as px\n",
    "from plotly.subplots import make_subplots"
   ]
  },
  {
   "cell_type": "code",
   "execution_count": 2,
   "id": "e0ac5634",
   "metadata": {},
   "outputs": [],
   "source": [
    "from google.cloud import bigquery\n",
    "from google.oauth2 import service_account"
   ]
  },
  {
   "cell_type": "code",
   "execution_count": 3,
   "id": "98de2786",
   "metadata": {},
   "outputs": [],
   "source": [
    "key_path = './service_account/gentle-keyword-423715-j0-03be08ad6412.json'\n",
    "\n",
    "credentials = service_account.Credentials.from_service_account_file(\n",
    "    key_path,\n",
    "    scopes=[\"https://www.googleapis.com/auth/bigquery\"]\n",
    ")"
   ]
  },
  {
   "cell_type": "code",
   "execution_count": 4,
   "id": "39eda529",
   "metadata": {},
   "outputs": [],
   "source": [
    "from google.cloud import bigquery\n",
    "\n",
    "client = bigquery.Client(\n",
    "    credentials = credentials,\n",
    "    project=credentials.project_id\n",
    ")"
   ]
  },
  {
   "cell_type": "code",
   "execution_count": 6,
   "id": "c03223ce",
   "metadata": {},
   "outputs": [],
   "source": [
    "# Create dataset reference\n",
    "dataset_ref = client.dataset('google_analytics_sample', project='bigquery-public-data')\n",
    "# Retrieve dataset from reference\n",
    "dataset = client.get_dataset(dataset_ref)"
   ]
  },
  {
   "cell_type": "code",
   "execution_count": 7,
   "id": "9d6fd290",
   "metadata": {},
   "outputs": [
    {
     "data": {
      "text/plain": [
       "['ga_sessions_20160801',\n",
       " 'ga_sessions_20160802',\n",
       " 'ga_sessions_20160803',\n",
       " 'ga_sessions_20160804',\n",
       " 'ga_sessions_20160805']"
      ]
     },
     "execution_count": 7,
     "metadata": {},
     "output_type": "execute_result"
    }
   ],
   "source": [
    "[x.table_id for x in client.list_tables(dataset)][:5]"
   ]
  },
  {
   "cell_type": "code",
   "execution_count": 8,
   "id": "d4511389",
   "metadata": {},
   "outputs": [
    {
     "name": "stdout",
     "output_type": "stream",
     "text": [
      "<class 'pandas.core.frame.DataFrame'>\n",
      "RangeIndex: 5 entries, 0 to 4\n",
      "Data columns (total 15 columns):\n",
      " #   Column                Non-Null Count  Dtype \n",
      "---  ------                --------------  ----- \n",
      " 0   visitorId             0 non-null      Int64 \n",
      " 1   visitNumber           5 non-null      Int64 \n",
      " 2   visitId               5 non-null      Int64 \n",
      " 3   visitStartTime        5 non-null      Int64 \n",
      " 4   date                  5 non-null      object\n",
      " 5   totals                5 non-null      object\n",
      " 6   trafficSource         5 non-null      object\n",
      " 7   device                5 non-null      object\n",
      " 8   geoNetwork            5 non-null      object\n",
      " 9   customDimensions      5 non-null      object\n",
      " 10  hits                  5 non-null      object\n",
      " 11  fullVisitorId         5 non-null      object\n",
      " 12  userId                0 non-null      object\n",
      " 13  channelGrouping       5 non-null      object\n",
      " 14  socialEngagementType  5 non-null      object\n",
      "dtypes: Int64(4), object(11)\n",
      "memory usage: 752.0+ bytes\n",
      "None\n"
     ]
    },
    {
     "data": {
      "text/html": [
       "<div>\n",
       "<style scoped>\n",
       "    .dataframe tbody tr th:only-of-type {\n",
       "        vertical-align: middle;\n",
       "    }\n",
       "\n",
       "    .dataframe tbody tr th {\n",
       "        vertical-align: top;\n",
       "    }\n",
       "\n",
       "    .dataframe thead th {\n",
       "        text-align: right;\n",
       "    }\n",
       "</style>\n",
       "<table border=\"1\" class=\"dataframe\">\n",
       "  <thead>\n",
       "    <tr style=\"text-align: right;\">\n",
       "      <th></th>\n",
       "      <th>visitorId</th>\n",
       "      <th>visitNumber</th>\n",
       "      <th>visitId</th>\n",
       "      <th>visitStartTime</th>\n",
       "      <th>date</th>\n",
       "      <th>totals</th>\n",
       "      <th>trafficSource</th>\n",
       "      <th>device</th>\n",
       "      <th>geoNetwork</th>\n",
       "      <th>customDimensions</th>\n",
       "      <th>hits</th>\n",
       "      <th>fullVisitorId</th>\n",
       "      <th>userId</th>\n",
       "      <th>channelGrouping</th>\n",
       "      <th>socialEngagementType</th>\n",
       "    </tr>\n",
       "  </thead>\n",
       "  <tbody>\n",
       "    <tr>\n",
       "      <th>0</th>\n",
       "      <td>&lt;NA&gt;</td>\n",
       "      <td>1</td>\n",
       "      <td>1470046245</td>\n",
       "      <td>1470046245</td>\n",
       "      <td>20160801</td>\n",
       "      <td>{'visits': 1, 'hits': 24, 'pageviews': 17, 'ti...</td>\n",
       "      <td>{'referralPath': None, 'campaign': '(not set)'...</td>\n",
       "      <td>{'browser': 'Firefox', 'browserVersion': 'not ...</td>\n",
       "      <td>{'continent': 'Europe', 'subContinent': 'Weste...</td>\n",
       "      <td>[{'index': 4, 'value': 'EMEA'}]</td>\n",
       "      <td>[{'hitNumber': 1, 'time': 0, 'hour': 3, 'minut...</td>\n",
       "      <td>895954260133011192</td>\n",
       "      <td>None</td>\n",
       "      <td>Organic Search</td>\n",
       "      <td>Not Socially Engaged</td>\n",
       "    </tr>\n",
       "    <tr>\n",
       "      <th>1</th>\n",
       "      <td>&lt;NA&gt;</td>\n",
       "      <td>1</td>\n",
       "      <td>1470084717</td>\n",
       "      <td>1470084717</td>\n",
       "      <td>20160801</td>\n",
       "      <td>{'visits': 1, 'hits': 24, 'pageviews': 18, 'ti...</td>\n",
       "      <td>{'referralPath': None, 'campaign': '(not set)'...</td>\n",
       "      <td>{'browser': 'Internet Explorer', 'browserVersi...</td>\n",
       "      <td>{'continent': 'Americas', 'subContinent': 'Nor...</td>\n",
       "      <td>[{'index': 4, 'value': 'North America'}]</td>\n",
       "      <td>[{'hitNumber': 1, 'time': 0, 'hour': 13, 'minu...</td>\n",
       "      <td>0288478011259077136</td>\n",
       "      <td>None</td>\n",
       "      <td>Direct</td>\n",
       "      <td>Not Socially Engaged</td>\n",
       "    </tr>\n",
       "    <tr>\n",
       "      <th>2</th>\n",
       "      <td>&lt;NA&gt;</td>\n",
       "      <td>3</td>\n",
       "      <td>1470078988</td>\n",
       "      <td>1470078988</td>\n",
       "      <td>20160801</td>\n",
       "      <td>{'visits': 1, 'hits': 27, 'pageviews': 17, 'ti...</td>\n",
       "      <td>{'referralPath': None, 'campaign': '(not set)'...</td>\n",
       "      <td>{'browser': 'Safari', 'browserVersion': 'not a...</td>\n",
       "      <td>{'continent': 'Americas', 'subContinent': 'Nor...</td>\n",
       "      <td>[{'index': 4, 'value': 'North America'}]</td>\n",
       "      <td>[{'hitNumber': 1, 'time': 0, 'hour': 12, 'minu...</td>\n",
       "      <td>6440789996634275026</td>\n",
       "      <td>None</td>\n",
       "      <td>Organic Search</td>\n",
       "      <td>Not Socially Engaged</td>\n",
       "    </tr>\n",
       "    <tr>\n",
       "      <th>3</th>\n",
       "      <td>&lt;NA&gt;</td>\n",
       "      <td>4</td>\n",
       "      <td>1470075581</td>\n",
       "      <td>1470075581</td>\n",
       "      <td>20160801</td>\n",
       "      <td>{'visits': 1, 'hits': 27, 'pageviews': 19, 'ti...</td>\n",
       "      <td>{'referralPath': '/', 'campaign': '(not set)',...</td>\n",
       "      <td>{'browser': 'Chrome', 'browserVersion': 'not a...</td>\n",
       "      <td>{'continent': 'Americas', 'subContinent': 'Nor...</td>\n",
       "      <td>[{'index': 4, 'value': 'North America'}]</td>\n",
       "      <td>[{'hitNumber': 1, 'time': 0, 'hour': 11, 'minu...</td>\n",
       "      <td>8520115029387302083</td>\n",
       "      <td>None</td>\n",
       "      <td>Referral</td>\n",
       "      <td>Not Socially Engaged</td>\n",
       "    </tr>\n",
       "    <tr>\n",
       "      <th>4</th>\n",
       "      <td>&lt;NA&gt;</td>\n",
       "      <td>30</td>\n",
       "      <td>1470099026</td>\n",
       "      <td>1470099026</td>\n",
       "      <td>20160801</td>\n",
       "      <td>{'visits': 1, 'hits': 27, 'pageviews': 17, 'ti...</td>\n",
       "      <td>{'referralPath': None, 'campaign': '(not set)'...</td>\n",
       "      <td>{'browser': 'Chrome', 'browserVersion': 'not a...</td>\n",
       "      <td>{'continent': 'Americas', 'subContinent': 'Nor...</td>\n",
       "      <td>[{'index': 4, 'value': 'North America'}]</td>\n",
       "      <td>[{'hitNumber': 1, 'time': 0, 'hour': 17, 'minu...</td>\n",
       "      <td>6792260745822342947</td>\n",
       "      <td>None</td>\n",
       "      <td>Organic Search</td>\n",
       "      <td>Not Socially Engaged</td>\n",
       "    </tr>\n",
       "  </tbody>\n",
       "</table>\n",
       "</div>"
      ],
      "text/plain": [
       "   visitorId  visitNumber     visitId  visitStartTime      date  \\\n",
       "0       <NA>            1  1470046245      1470046245  20160801   \n",
       "1       <NA>            1  1470084717      1470084717  20160801   \n",
       "2       <NA>            3  1470078988      1470078988  20160801   \n",
       "3       <NA>            4  1470075581      1470075581  20160801   \n",
       "4       <NA>           30  1470099026      1470099026  20160801   \n",
       "\n",
       "                                              totals  \\\n",
       "0  {'visits': 1, 'hits': 24, 'pageviews': 17, 'ti...   \n",
       "1  {'visits': 1, 'hits': 24, 'pageviews': 18, 'ti...   \n",
       "2  {'visits': 1, 'hits': 27, 'pageviews': 17, 'ti...   \n",
       "3  {'visits': 1, 'hits': 27, 'pageviews': 19, 'ti...   \n",
       "4  {'visits': 1, 'hits': 27, 'pageviews': 17, 'ti...   \n",
       "\n",
       "                                       trafficSource  \\\n",
       "0  {'referralPath': None, 'campaign': '(not set)'...   \n",
       "1  {'referralPath': None, 'campaign': '(not set)'...   \n",
       "2  {'referralPath': None, 'campaign': '(not set)'...   \n",
       "3  {'referralPath': '/', 'campaign': '(not set)',...   \n",
       "4  {'referralPath': None, 'campaign': '(not set)'...   \n",
       "\n",
       "                                              device  \\\n",
       "0  {'browser': 'Firefox', 'browserVersion': 'not ...   \n",
       "1  {'browser': 'Internet Explorer', 'browserVersi...   \n",
       "2  {'browser': 'Safari', 'browserVersion': 'not a...   \n",
       "3  {'browser': 'Chrome', 'browserVersion': 'not a...   \n",
       "4  {'browser': 'Chrome', 'browserVersion': 'not a...   \n",
       "\n",
       "                                          geoNetwork  \\\n",
       "0  {'continent': 'Europe', 'subContinent': 'Weste...   \n",
       "1  {'continent': 'Americas', 'subContinent': 'Nor...   \n",
       "2  {'continent': 'Americas', 'subContinent': 'Nor...   \n",
       "3  {'continent': 'Americas', 'subContinent': 'Nor...   \n",
       "4  {'continent': 'Americas', 'subContinent': 'Nor...   \n",
       "\n",
       "                           customDimensions  \\\n",
       "0           [{'index': 4, 'value': 'EMEA'}]   \n",
       "1  [{'index': 4, 'value': 'North America'}]   \n",
       "2  [{'index': 4, 'value': 'North America'}]   \n",
       "3  [{'index': 4, 'value': 'North America'}]   \n",
       "4  [{'index': 4, 'value': 'North America'}]   \n",
       "\n",
       "                                                hits        fullVisitorId  \\\n",
       "0  [{'hitNumber': 1, 'time': 0, 'hour': 3, 'minut...   895954260133011192   \n",
       "1  [{'hitNumber': 1, 'time': 0, 'hour': 13, 'minu...  0288478011259077136   \n",
       "2  [{'hitNumber': 1, 'time': 0, 'hour': 12, 'minu...  6440789996634275026   \n",
       "3  [{'hitNumber': 1, 'time': 0, 'hour': 11, 'minu...  8520115029387302083   \n",
       "4  [{'hitNumber': 1, 'time': 0, 'hour': 17, 'minu...  6792260745822342947   \n",
       "\n",
       "  userId channelGrouping  socialEngagementType  \n",
       "0   None  Organic Search  Not Socially Engaged  \n",
       "1   None          Direct  Not Socially Engaged  \n",
       "2   None  Organic Search  Not Socially Engaged  \n",
       "3   None        Referral  Not Socially Engaged  \n",
       "4   None  Organic Search  Not Socially Engaged  "
      ]
     },
     "execution_count": 8,
     "metadata": {},
     "output_type": "execute_result"
    }
   ],
   "source": [
    "# Try if this connected\n",
    "\n",
    "query = \"\"\"\n",
    "SELECT *\n",
    "FROM `bigquery-public-data.google_analytics_sample.ga_sessions_20160801`\n",
    "LIMIT 5\n",
    "\"\"\"\n",
    "\n",
    "df = client.query(query).to_dataframe()\n",
    "print(df.info())\n",
    "df"
   ]
  },
  {
   "cell_type": "code",
   "execution_count": 9,
   "id": "56bcb6f1",
   "metadata": {},
   "outputs": [
    {
     "name": "stdout",
     "output_type": "stream",
     "text": [
      "SCHEMA field for the 'totals' column:\n",
      "\n",
      "totals (RECORD)\n",
      "    visits (INTEGER)\n",
      "    hits (INTEGER)\n",
      "    pageviews (INTEGER)\n",
      "    timeOnSite (INTEGER)\n",
      "    bounces (INTEGER)\n",
      "    transactions (INTEGER)\n",
      "    transactionRevenue (INTEGER)\n",
      "    newVisits (INTEGER)\n",
      "    screenviews (INTEGER)\n",
      "    uniqueScreenviews (INTEGER)\n",
      "    timeOnScreen (INTEGER)\n",
      "    totalTransactionRevenue (INTEGER)\n",
      "    sessionQualityDim (INTEGER)\n",
      "\n",
      "\n",
      "SCHEMA field for the 'trafficSource' column:\n",
      "\n",
      "trafficSource (RECORD)\n",
      "    referralPath (STRING)\n",
      "    campaign (STRING)\n",
      "    source (STRING)\n",
      "    medium (STRING)\n",
      "    keyword (STRING)\n",
      "    adContent (STRING)\n",
      "    adwordsClickInfo (RECORD)\n",
      "        campaignId (INTEGER)\n",
      "        adGroupId (INTEGER)\n",
      "        creativeId (INTEGER)\n",
      "        criteriaId (INTEGER)\n",
      "        page (INTEGER)\n",
      "        slot (STRING)\n",
      "        criteriaParameters (STRING)\n",
      "        gclId (STRING)\n",
      "        customerId (INTEGER)\n",
      "        adNetworkType (STRING)\n",
      "        targetingCriteria (RECORD)\n",
      "            boomUserlistId (INTEGER)\n",
      "        isVideoAd (BOOLEAN)\n",
      "    isTrueDirect (BOOLEAN)\n",
      "    campaignCode (STRING)\n",
      "\n",
      "\n",
      "SCHEMA field for the 'device' column:\n",
      "\n",
      "device (RECORD)\n",
      "    browser (STRING)\n",
      "    browserVersion (STRING)\n",
      "    browserSize (STRING)\n",
      "    operatingSystem (STRING)\n",
      "    operatingSystemVersion (STRING)\n",
      "    isMobile (BOOLEAN)\n",
      "    mobileDeviceBranding (STRING)\n",
      "    mobileDeviceModel (STRING)\n",
      "    mobileInputSelector (STRING)\n",
      "    mobileDeviceInfo (STRING)\n",
      "    mobileDeviceMarketingName (STRING)\n",
      "    flashVersion (STRING)\n",
      "    javaEnabled (BOOLEAN)\n",
      "    language (STRING)\n",
      "    screenColors (STRING)\n",
      "    screenResolution (STRING)\n",
      "    deviceCategory (STRING)\n",
      "\n",
      "\n",
      "SCHEMA field for the 'geoNetwork' column:\n",
      "\n",
      "geoNetwork (RECORD)\n",
      "    continent (STRING)\n",
      "    subContinent (STRING)\n",
      "    country (STRING)\n",
      "    region (STRING)\n",
      "    metro (STRING)\n",
      "    city (STRING)\n",
      "    cityId (STRING)\n",
      "    networkDomain (STRING)\n",
      "    latitude (STRING)\n",
      "    longitude (STRING)\n",
      "    networkLocation (STRING)\n",
      "\n",
      "\n",
      "SCHEMA field for the 'customDimensions' column:\n",
      "\n",
      "customDimensions (RECORD) - REPEATED\n",
      "    index (INTEGER)\n",
      "    value (STRING)\n",
      "\n",
      "\n",
      "SCHEMA field for the 'hits' column:\n",
      "\n",
      "hits (RECORD) - REPEATED\n",
      "    hitNumber (INTEGER)\n",
      "    time (INTEGER)\n",
      "    hour (INTEGER)\n",
      "    minute (INTEGER)\n",
      "    isSecure (BOOLEAN)\n",
      "    isInteraction (BOOLEAN)\n",
      "    isEntrance (BOOLEAN)\n",
      "    isExit (BOOLEAN)\n",
      "    referer (STRING)\n",
      "    page (RECORD)\n",
      "        pagePath (STRING)\n",
      "        hostname (STRING)\n",
      "        pageTitle (STRING)\n",
      "        searchKeyword (STRING)\n",
      "        searchCategory (STRING)\n",
      "        pagePathLevel1 (STRING)\n",
      "        pagePathLevel2 (STRING)\n",
      "        pagePathLevel3 (STRING)\n",
      "        pagePathLevel4 (STRING)\n",
      "    transaction (RECORD)\n",
      "        transactionId (STRING)\n",
      "        transactionRevenue (INTEGER)\n",
      "        transactionTax (INTEGER)\n",
      "        transactionShipping (INTEGER)\n",
      "        affiliation (STRING)\n",
      "        currencyCode (STRING)\n",
      "        localTransactionRevenue (INTEGER)\n",
      "        localTransactionTax (INTEGER)\n",
      "        localTransactionShipping (INTEGER)\n",
      "        transactionCoupon (STRING)\n",
      "    item (RECORD)\n",
      "        transactionId (STRING)\n",
      "        productName (STRING)\n",
      "        productCategory (STRING)\n",
      "        productSku (STRING)\n",
      "        itemQuantity (INTEGER)\n",
      "        itemRevenue (INTEGER)\n",
      "        currencyCode (STRING)\n",
      "        localItemRevenue (INTEGER)\n",
      "    contentInfo (RECORD)\n",
      "        contentDescription (STRING)\n",
      "    appInfo (RECORD)\n",
      "        name (STRING)\n",
      "        version (STRING)\n",
      "        id (STRING)\n",
      "        installerId (STRING)\n",
      "        appInstallerId (STRING)\n",
      "        appName (STRING)\n",
      "        appVersion (STRING)\n",
      "        appId (STRING)\n",
      "        screenName (STRING)\n",
      "        landingScreenName (STRING)\n",
      "        exitScreenName (STRING)\n",
      "        screenDepth (STRING)\n",
      "    exceptionInfo (RECORD)\n",
      "        description (STRING)\n",
      "        isFatal (BOOLEAN)\n",
      "        exceptions (INTEGER)\n",
      "        fatalExceptions (INTEGER)\n",
      "    eventInfo (RECORD)\n",
      "        eventCategory (STRING)\n",
      "        eventAction (STRING)\n",
      "        eventLabel (STRING)\n",
      "        eventValue (INTEGER)\n",
      "    product (RECORD) - REPEATED\n",
      "        productSKU (STRING)\n",
      "        v2ProductName (STRING)\n",
      "        v2ProductCategory (STRING)\n",
      "        productVariant (STRING)\n",
      "        productBrand (STRING)\n",
      "        productRevenue (INTEGER)\n",
      "        localProductRevenue (INTEGER)\n",
      "        productPrice (INTEGER)\n",
      "        localProductPrice (INTEGER)\n",
      "        productQuantity (INTEGER)\n",
      "        productRefundAmount (INTEGER)\n",
      "        localProductRefundAmount (INTEGER)\n",
      "        isImpression (BOOLEAN)\n",
      "        isClick (BOOLEAN)\n",
      "        customDimensions (RECORD) - REPEATED\n",
      "            index (INTEGER)\n",
      "            value (STRING)\n",
      "        customMetrics (RECORD) - REPEATED\n",
      "            index (INTEGER)\n",
      "            value (INTEGER)\n",
      "        productListName (STRING)\n",
      "        productListPosition (INTEGER)\n",
      "    promotion (RECORD) - REPEATED\n",
      "        promoId (STRING)\n",
      "        promoName (STRING)\n",
      "        promoCreative (STRING)\n",
      "        promoPosition (STRING)\n",
      "    promotionActionInfo (RECORD)\n",
      "        promoIsView (BOOLEAN)\n",
      "        promoIsClick (BOOLEAN)\n",
      "    refund (RECORD)\n",
      "        refundAmount (INTEGER)\n",
      "        localRefundAmount (INTEGER)\n",
      "    eCommerceAction (RECORD)\n",
      "        action_type (STRING)\n",
      "        step (INTEGER)\n",
      "        option (STRING)\n",
      "    experiment (RECORD) - REPEATED\n",
      "        experimentId (STRING)\n",
      "        experimentVariant (STRING)\n",
      "    publisher (RECORD)\n",
      "        dfpClicks (INTEGER)\n",
      "        dfpImpressions (INTEGER)\n",
      "        dfpMatchedQueries (INTEGER)\n",
      "        dfpMeasurableImpressions (INTEGER)\n",
      "        dfpQueries (INTEGER)\n",
      "        dfpRevenueCpm (INTEGER)\n",
      "        dfpRevenueCpc (INTEGER)\n",
      "        dfpViewableImpressions (INTEGER)\n",
      "        dfpPagesViewed (INTEGER)\n",
      "        adsenseBackfillDfpClicks (INTEGER)\n",
      "        adsenseBackfillDfpImpressions (INTEGER)\n",
      "        adsenseBackfillDfpMatchedQueries (INTEGER)\n",
      "        adsenseBackfillDfpMeasurableImpressions (INTEGER)\n",
      "        adsenseBackfillDfpQueries (INTEGER)\n",
      "        adsenseBackfillDfpRevenueCpm (INTEGER)\n",
      "        adsenseBackfillDfpRevenueCpc (INTEGER)\n",
      "        adsenseBackfillDfpViewableImpressions (INTEGER)\n",
      "        adsenseBackfillDfpPagesViewed (INTEGER)\n",
      "        adxBackfillDfpClicks (INTEGER)\n",
      "        adxBackfillDfpImpressions (INTEGER)\n",
      "        adxBackfillDfpMatchedQueries (INTEGER)\n",
      "        adxBackfillDfpMeasurableImpressions (INTEGER)\n",
      "        adxBackfillDfpQueries (INTEGER)\n",
      "        adxBackfillDfpRevenueCpm (INTEGER)\n",
      "        adxBackfillDfpRevenueCpc (INTEGER)\n",
      "        adxBackfillDfpViewableImpressions (INTEGER)\n",
      "        adxBackfillDfpPagesViewed (INTEGER)\n",
      "        adxClicks (INTEGER)\n",
      "        adxImpressions (INTEGER)\n",
      "        adxMatchedQueries (INTEGER)\n",
      "        adxMeasurableImpressions (INTEGER)\n",
      "        adxQueries (INTEGER)\n",
      "        adxRevenue (INTEGER)\n",
      "        adxViewableImpressions (INTEGER)\n",
      "        adxPagesViewed (INTEGER)\n",
      "        adsViewed (INTEGER)\n",
      "        adsUnitsViewed (INTEGER)\n",
      "        adsUnitsMatched (INTEGER)\n",
      "        viewableAdsViewed (INTEGER)\n",
      "        measurableAdsViewed (INTEGER)\n",
      "        adsPagesViewed (INTEGER)\n",
      "        adsClicked (INTEGER)\n",
      "        adsRevenue (INTEGER)\n",
      "        dfpAdGroup (STRING)\n",
      "        dfpAdUnits (STRING)\n",
      "        dfpNetworkId (STRING)\n",
      "    customVariables (RECORD) - REPEATED\n",
      "        index (INTEGER)\n",
      "        customVarName (STRING)\n",
      "        customVarValue (STRING)\n",
      "    customDimensions (RECORD) - REPEATED\n",
      "        index (INTEGER)\n",
      "        value (STRING)\n",
      "    customMetrics (RECORD) - REPEATED\n",
      "        index (INTEGER)\n",
      "        value (INTEGER)\n",
      "    type (STRING)\n",
      "    social (RECORD)\n",
      "        socialInteractionNetwork (STRING)\n",
      "        socialInteractionAction (STRING)\n",
      "        socialInteractions (INTEGER)\n",
      "        socialInteractionTarget (STRING)\n",
      "        socialNetwork (STRING)\n",
      "        uniqueSocialInteractions (INTEGER)\n",
      "        hasSocialSourceReferral (STRING)\n",
      "        socialInteractionNetworkAction (STRING)\n",
      "    latencyTracking (RECORD)\n",
      "        pageLoadSample (INTEGER)\n",
      "        pageLoadTime (INTEGER)\n",
      "        pageDownloadTime (INTEGER)\n",
      "        redirectionTime (INTEGER)\n",
      "        speedMetricsSample (INTEGER)\n",
      "        domainLookupTime (INTEGER)\n",
      "        serverConnectionTime (INTEGER)\n",
      "        serverResponseTime (INTEGER)\n",
      "        domLatencyMetricsSample (INTEGER)\n",
      "        domInteractiveTime (INTEGER)\n",
      "        domContentLoadedTime (INTEGER)\n",
      "        userTimingValue (INTEGER)\n",
      "        userTimingSample (INTEGER)\n",
      "        userTimingVariable (STRING)\n",
      "        userTimingCategory (STRING)\n",
      "        userTimingLabel (STRING)\n",
      "    sourcePropertyInfo (RECORD)\n",
      "        sourcePropertyDisplayName (STRING)\n",
      "        sourcePropertyTrackingId (STRING)\n",
      "    contentGroup (RECORD)\n",
      "        contentGroup1 (STRING)\n",
      "        contentGroup2 (STRING)\n",
      "        contentGroup3 (STRING)\n",
      "        contentGroup4 (STRING)\n",
      "        contentGroup5 (STRING)\n",
      "        previousContentGroup1 (STRING)\n",
      "        previousContentGroup2 (STRING)\n",
      "        previousContentGroup3 (STRING)\n",
      "        previousContentGroup4 (STRING)\n",
      "        previousContentGroup5 (STRING)\n",
      "        contentGroupUniqueViews1 (INTEGER)\n",
      "        contentGroupUniqueViews2 (INTEGER)\n",
      "        contentGroupUniqueViews3 (INTEGER)\n",
      "        contentGroupUniqueViews4 (INTEGER)\n",
      "        contentGroupUniqueViews5 (INTEGER)\n",
      "    dataSource (STRING)\n",
      "    publisher_infos (RECORD) - REPEATED\n",
      "        dfpClicks (INTEGER)\n",
      "        dfpImpressions (INTEGER)\n",
      "        dfpMatchedQueries (INTEGER)\n",
      "        dfpMeasurableImpressions (INTEGER)\n",
      "        dfpQueries (INTEGER)\n",
      "        dfpRevenueCpm (INTEGER)\n",
      "        dfpRevenueCpc (INTEGER)\n",
      "        dfpViewableImpressions (INTEGER)\n",
      "        dfpPagesViewed (INTEGER)\n",
      "        adsenseBackfillDfpClicks (INTEGER)\n",
      "        adsenseBackfillDfpImpressions (INTEGER)\n",
      "        adsenseBackfillDfpMatchedQueries (INTEGER)\n",
      "        adsenseBackfillDfpMeasurableImpressions (INTEGER)\n",
      "        adsenseBackfillDfpQueries (INTEGER)\n",
      "        adsenseBackfillDfpRevenueCpm (INTEGER)\n",
      "        adsenseBackfillDfpRevenueCpc (INTEGER)\n",
      "        adsenseBackfillDfpViewableImpressions (INTEGER)\n",
      "        adsenseBackfillDfpPagesViewed (INTEGER)\n",
      "        adxBackfillDfpClicks (INTEGER)\n",
      "        adxBackfillDfpImpressions (INTEGER)\n",
      "        adxBackfillDfpMatchedQueries (INTEGER)\n",
      "        adxBackfillDfpMeasurableImpressions (INTEGER)\n",
      "        adxBackfillDfpQueries (INTEGER)\n",
      "        adxBackfillDfpRevenueCpm (INTEGER)\n",
      "        adxBackfillDfpRevenueCpc (INTEGER)\n",
      "        adxBackfillDfpViewableImpressions (INTEGER)\n",
      "        adxBackfillDfpPagesViewed (INTEGER)\n",
      "        adxClicks (INTEGER)\n",
      "        adxImpressions (INTEGER)\n",
      "        adxMatchedQueries (INTEGER)\n",
      "        adxMeasurableImpressions (INTEGER)\n",
      "        adxQueries (INTEGER)\n",
      "        adxRevenue (INTEGER)\n",
      "        adxViewableImpressions (INTEGER)\n",
      "        adxPagesViewed (INTEGER)\n",
      "        adsViewed (INTEGER)\n",
      "        adsUnitsViewed (INTEGER)\n",
      "        adsUnitsMatched (INTEGER)\n",
      "        viewableAdsViewed (INTEGER)\n",
      "        measurableAdsViewed (INTEGER)\n",
      "        adsPagesViewed (INTEGER)\n",
      "        adsClicked (INTEGER)\n",
      "        adsRevenue (INTEGER)\n",
      "        dfpAdGroup (STRING)\n",
      "        dfpAdUnits (STRING)\n",
      "        dfpNetworkId (STRING)\n"
     ]
    }
   ],
   "source": [
    "# Get format schema nested field\n",
    "\n",
    "def format_schema_field(schema_field, indent=0):\n",
    "    indent_str = \"  \" * indent\n",
    "    field_info = f\"{indent_str}{schema_field.name} ({schema_field.field_type})\"\n",
    "    \n",
    "    if schema_field.mode != \"NULLABLE\":\n",
    "        field_info += f\" - {schema_field.mode}\"\n",
    "    \n",
    "    if schema_field.description:\n",
    "        field_info += f\" - {schema_field.description}\"\n",
    "    \n",
    "    nested_indent = indent + 2\n",
    "    if schema_field.field_type == \"RECORD\":\n",
    "        for sub_field in schema_field.fields:\n",
    "            field_info += \"\\n\" + format_schema_field(sub_field, nested_indent)\n",
    "    \n",
    "    return field_info\n",
    "\n",
    "\n",
    "table_ref = dataset_ref.table('ga_sessions_20160801')\n",
    "table = client.get_table(table_ref)\n",
    "\n",
    "# Display schemas\n",
    "print(\"SCHEMA field for the 'totals' column:\\n\")\n",
    "print(format_schema_field(table.schema[5]))\n",
    "print()\n",
    "\n",
    "print(\"\\nSCHEMA field for the 'trafficSource' column:\\n\")\n",
    "print(format_schema_field(table.schema[6]))\n",
    "print()\n",
    "\n",
    "print(\"\\nSCHEMA field for the 'device' column:\\n\")\n",
    "print(format_schema_field(table.schema[7]))\n",
    "print()\n",
    "\n",
    "print(\"\\nSCHEMA field for the 'geoNetwork' column:\\n\")\n",
    "print(format_schema_field(table.schema[8]))\n",
    "print()\n",
    "\n",
    "print(\"\\nSCHEMA field for the 'customDimensions' column:\\n\")\n",
    "print(format_schema_field(table.schema[9]))\n",
    "print()\n",
    "\n",
    "print(\"\\nSCHEMA field for the 'hits' column:\\n\")\n",
    "print(format_schema_field(table.schema[10]))"
   ]
  },
  {
   "cell_type": "markdown",
   "id": "d0c1baf2",
   "metadata": {},
   "source": [
    "**Most Popular Pages**"
   ]
  },
  {
   "cell_type": "markdown",
   "id": "afd964b2",
   "metadata": {},
   "source": [
    "A high bounce rate can indicate either:\n",
    "\n",
    "1. Users are not seeing what they expect when they enter the site, and Search Engine Optimization (SEO) needs to be done.\n",
    "2. There is a functionality or display issue with the landing page."
   ]
  },
  {
   "cell_type": "code",
   "execution_count": 11,
   "id": "11551cff",
   "metadata": {},
   "outputs": [
    {
     "data": {
      "text/html": [
       "<div>\n",
       "<style scoped>\n",
       "    .dataframe tbody tr th:only-of-type {\n",
       "        vertical-align: middle;\n",
       "    }\n",
       "\n",
       "    .dataframe tbody tr th {\n",
       "        vertical-align: top;\n",
       "    }\n",
       "\n",
       "    .dataframe thead th {\n",
       "        text-align: right;\n",
       "    }\n",
       "</style>\n",
       "<table border=\"1\" class=\"dataframe\">\n",
       "  <thead>\n",
       "    <tr style=\"text-align: right;\">\n",
       "      <th></th>\n",
       "      <th>page</th>\n",
       "      <th>views</th>\n",
       "      <th>bounce_rate</th>\n",
       "    </tr>\n",
       "  </thead>\n",
       "  <tbody>\n",
       "    <tr>\n",
       "      <th>0</th>\n",
       "      <td>home</td>\n",
       "      <td>1036716</td>\n",
       "      <td>0.297107</td>\n",
       "    </tr>\n",
       "    <tr>\n",
       "      <th>1</th>\n",
       "      <td>quickview</td>\n",
       "      <td>359876</td>\n",
       "      <td>0.000270</td>\n",
       "    </tr>\n",
       "    <tr>\n",
       "      <th>2</th>\n",
       "      <td>basket.html</td>\n",
       "      <td>209379</td>\n",
       "      <td>0.020537</td>\n",
       "    </tr>\n",
       "    <tr>\n",
       "      <th>3</th>\n",
       "      <td>youtube</td>\n",
       "      <td>145049</td>\n",
       "      <td>0.316190</td>\n",
       "    </tr>\n",
       "    <tr>\n",
       "      <th>4</th>\n",
       "      <td>signin.html</td>\n",
       "      <td>101299</td>\n",
       "      <td>0.058322</td>\n",
       "    </tr>\n",
       "    <tr>\n",
       "      <th>5</th>\n",
       "      <td>store.html</td>\n",
       "      <td>93552</td>\n",
       "      <td>0.025505</td>\n",
       "    </tr>\n",
       "    <tr>\n",
       "      <th>6</th>\n",
       "      <td>men++s+t+shirts</td>\n",
       "      <td>67472</td>\n",
       "      <td>0.135389</td>\n",
       "    </tr>\n",
       "    <tr>\n",
       "      <th>7</th>\n",
       "      <td>asearch.html</td>\n",
       "      <td>62380</td>\n",
       "      <td>0.031677</td>\n",
       "    </tr>\n",
       "    <tr>\n",
       "      <th>8</th>\n",
       "      <td>electronics</td>\n",
       "      <td>56854</td>\n",
       "      <td>0.047121</td>\n",
       "    </tr>\n",
       "    <tr>\n",
       "      <th>9</th>\n",
       "      <td>apparel</td>\n",
       "      <td>56707</td>\n",
       "      <td>0.051122</td>\n",
       "    </tr>\n",
       "    <tr>\n",
       "      <th>10</th>\n",
       "      <td>bags</td>\n",
       "      <td>53702</td>\n",
       "      <td>0.072455</td>\n",
       "    </tr>\n",
       "    <tr>\n",
       "      <th>11</th>\n",
       "      <td>drinkware</td>\n",
       "      <td>51720</td>\n",
       "      <td>0.091377</td>\n",
       "    </tr>\n",
       "    <tr>\n",
       "      <th>12</th>\n",
       "      <td>office</td>\n",
       "      <td>49590</td>\n",
       "      <td>0.026074</td>\n",
       "    </tr>\n",
       "    <tr>\n",
       "      <th>13</th>\n",
       "      <td>google</td>\n",
       "      <td>43035</td>\n",
       "      <td>0.030557</td>\n",
       "    </tr>\n",
       "    <tr>\n",
       "      <th>14</th>\n",
       "      <td>mens+t+shirts</td>\n",
       "      <td>38380</td>\n",
       "      <td>0.157374</td>\n",
       "    </tr>\n",
       "    <tr>\n",
       "      <th>15</th>\n",
       "      <td>men++s+outerwear</td>\n",
       "      <td>37872</td>\n",
       "      <td>0.072613</td>\n",
       "    </tr>\n",
       "    <tr>\n",
       "      <th>16</th>\n",
       "      <td>yourinfo.html</td>\n",
       "      <td>37532</td>\n",
       "      <td>0.000187</td>\n",
       "    </tr>\n",
       "    <tr>\n",
       "      <th>17</th>\n",
       "      <td>payment.html</td>\n",
       "      <td>35810</td>\n",
       "      <td>0.000084</td>\n",
       "    </tr>\n",
       "    <tr>\n",
       "      <th>18</th>\n",
       "      <td>fun</td>\n",
       "      <td>32770</td>\n",
       "      <td>0.017180</td>\n",
       "    </tr>\n",
       "    <tr>\n",
       "      <th>19</th>\n",
       "      <td>accessories</td>\n",
       "      <td>30457</td>\n",
       "      <td>0.030765</td>\n",
       "    </tr>\n",
       "  </tbody>\n",
       "</table>\n",
       "</div>"
      ],
      "text/plain": [
       "                page    views  bounce_rate\n",
       "0               home  1036716     0.297107\n",
       "1          quickview   359876     0.000270\n",
       "2        basket.html   209379     0.020537\n",
       "3            youtube   145049     0.316190\n",
       "4        signin.html   101299     0.058322\n",
       "5         store.html    93552     0.025505\n",
       "6    men++s+t+shirts    67472     0.135389\n",
       "7       asearch.html    62380     0.031677\n",
       "8        electronics    56854     0.047121\n",
       "9            apparel    56707     0.051122\n",
       "10              bags    53702     0.072455\n",
       "11         drinkware    51720     0.091377\n",
       "12            office    49590     0.026074\n",
       "13            google    43035     0.030557\n",
       "14     mens+t+shirts    38380     0.157374\n",
       "15  men++s+outerwear    37872     0.072613\n",
       "16     yourinfo.html    37532     0.000187\n",
       "17      payment.html    35810     0.000084\n",
       "18               fun    32770     0.017180\n",
       "19       accessories    30457     0.030765"
      ]
     },
     "execution_count": 11,
     "metadata": {},
     "output_type": "execute_result"
    }
   ],
   "source": [
    "query = \"\"\"\n",
    "SELECT\n",
    "  SUBSTRING(hit.page.pagePath, INSTR(hit.page.pagePath, '/', -1) + 1) page,\n",
    "  COUNT(*) views,\n",
    "  SUM(totals.bounces) / COUNT(*) bounce_rate\n",
    "FROM `bigquery-public-data.google_analytics_sample.ga_sessions_*` h, UNNEST(h.hits) hit\n",
    "WHERE _TABLE_SUFFIX BETWEEN '20160801' AND '20170801'\n",
    "  AND hit.type = 'PAGE'\n",
    "GROUP BY page\n",
    "ORDER BY views DESC\n",
    "\"\"\"\n",
    "\n",
    "df = client.query(query).to_dataframe()\n",
    "df.head(20)"
   ]
  },
  {
   "cell_type": "markdown",
   "id": "ae3ef94e",
   "metadata": {},
   "source": [
    "NOTES:\n",
    "\n",
    "Looking at the bounce rates, it looks like Men's Apparel and Bags are comparatively lower than the other pages.\n",
    "\n",
    "We can also see that the YouTube and Drinkware pages have a lot of views, but have a high bounce rate, indicating either a problem with the page's functionality, or users not seeing what they were expecting to when they entered the site."
   ]
  },
  {
   "cell_type": "markdown",
   "id": "c7e000d0",
   "metadata": {},
   "source": [
    "**Sessions across Browsers and Devices**\n",
    "\n",
    "It is needed to see if there are any compatibility issues."
   ]
  },
  {
   "cell_type": "code",
   "execution_count": 12,
   "id": "831ede37",
   "metadata": {},
   "outputs": [
    {
     "data": {
      "text/html": [
       "<div>\n",
       "<style scoped>\n",
       "    .dataframe tbody tr th:only-of-type {\n",
       "        vertical-align: middle;\n",
       "    }\n",
       "\n",
       "    .dataframe tbody tr th {\n",
       "        vertical-align: top;\n",
       "    }\n",
       "\n",
       "    .dataframe thead th {\n",
       "        text-align: right;\n",
       "    }\n",
       "</style>\n",
       "<table border=\"1\" class=\"dataframe\">\n",
       "  <thead>\n",
       "    <tr style=\"text-align: right;\">\n",
       "      <th></th>\n",
       "      <th>browser</th>\n",
       "      <th>sessions</th>\n",
       "      <th>bounce_rate</th>\n",
       "    </tr>\n",
       "  </thead>\n",
       "  <tbody>\n",
       "    <tr>\n",
       "      <th>0</th>\n",
       "      <td>Chrome</td>\n",
       "      <td>2653448</td>\n",
       "      <td>0.109769</td>\n",
       "    </tr>\n",
       "    <tr>\n",
       "      <th>1</th>\n",
       "      <td>Safari</td>\n",
       "      <td>544508</td>\n",
       "      <td>0.180686</td>\n",
       "    </tr>\n",
       "    <tr>\n",
       "      <th>2</th>\n",
       "      <td>Firefox</td>\n",
       "      <td>114184</td>\n",
       "      <td>0.195675</td>\n",
       "    </tr>\n",
       "    <tr>\n",
       "      <th>3</th>\n",
       "      <td>Internet Explorer</td>\n",
       "      <td>53988</td>\n",
       "      <td>0.218067</td>\n",
       "    </tr>\n",
       "    <tr>\n",
       "      <th>4</th>\n",
       "      <td>Edge</td>\n",
       "      <td>32460</td>\n",
       "      <td>0.175416</td>\n",
       "    </tr>\n",
       "    <tr>\n",
       "      <th>5</th>\n",
       "      <td>Android Webview</td>\n",
       "      <td>21934</td>\n",
       "      <td>0.204568</td>\n",
       "    </tr>\n",
       "    <tr>\n",
       "      <th>6</th>\n",
       "      <td>Safari (in-app)</td>\n",
       "      <td>17016</td>\n",
       "      <td>0.236777</td>\n",
       "    </tr>\n",
       "    <tr>\n",
       "      <th>7</th>\n",
       "      <td>Opera</td>\n",
       "      <td>13210</td>\n",
       "      <td>0.243528</td>\n",
       "    </tr>\n",
       "    <tr>\n",
       "      <th>8</th>\n",
       "      <td>Opera Mini</td>\n",
       "      <td>11981</td>\n",
       "      <td>0.335281</td>\n",
       "    </tr>\n",
       "    <tr>\n",
       "      <th>9</th>\n",
       "      <td>UC Browser</td>\n",
       "      <td>4673</td>\n",
       "      <td>0.350096</td>\n",
       "    </tr>\n",
       "  </tbody>\n",
       "</table>\n",
       "</div>"
      ],
      "text/plain": [
       "             browser  sessions  bounce_rate\n",
       "0             Chrome   2653448     0.109769\n",
       "1             Safari    544508     0.180686\n",
       "2            Firefox    114184     0.195675\n",
       "3  Internet Explorer     53988     0.218067\n",
       "4               Edge     32460     0.175416\n",
       "5    Android Webview     21934     0.204568\n",
       "6    Safari (in-app)     17016     0.236777\n",
       "7              Opera     13210     0.243528\n",
       "8         Opera Mini     11981     0.335281\n",
       "9         UC Browser      4673     0.350096"
      ]
     },
     "execution_count": 12,
     "metadata": {},
     "output_type": "execute_result"
    }
   ],
   "source": [
    "query = \"\"\"\n",
    "SELECT\n",
    "  device.Browser browser,\n",
    "  COUNT(*) sessions,\n",
    "  SUM(totals.bounces) / COUNT(*) bounce_rate\n",
    "FROM `bigquery-public-data.google_analytics_sample.ga_sessions_*` h, UNNEST(h.hits) hit\n",
    "WHERE _TABLE_SUFFIX BETWEEN '20160801' AND '20170801'\n",
    "  AND hit.type = 'PAGE'\n",
    "GROUP BY browser\n",
    "ORDER BY sessions DESC\n",
    "\"\"\"\n",
    "\n",
    "df = client.query(query).to_dataframe()\n",
    "df.head(10)"
   ]
  },
  {
   "cell_type": "markdown",
   "id": "8da5db7b",
   "metadata": {},
   "source": [
    "NOTES:\n",
    "- Among the top 5 browsers, the bounce rate for Chrome is comparatively low at 9%, while the other browsers are roughly 7% - 8% higher with the exception of Internet Explorer, having an bounce rate of 19%."
   ]
  },
  {
   "cell_type": "code",
   "execution_count": 13,
   "id": "ccf97dd4",
   "metadata": {},
   "outputs": [
    {
     "data": {
      "text/html": [
       "<div>\n",
       "<style scoped>\n",
       "    .dataframe tbody tr th:only-of-type {\n",
       "        vertical-align: middle;\n",
       "    }\n",
       "\n",
       "    .dataframe tbody tr th {\n",
       "        vertical-align: top;\n",
       "    }\n",
       "\n",
       "    .dataframe thead th {\n",
       "        text-align: right;\n",
       "    }\n",
       "</style>\n",
       "<table border=\"1\" class=\"dataframe\">\n",
       "  <thead>\n",
       "    <tr style=\"text-align: right;\">\n",
       "      <th></th>\n",
       "      <th>device</th>\n",
       "      <th>sessions</th>\n",
       "      <th>bounce_rate</th>\n",
       "    </tr>\n",
       "  </thead>\n",
       "  <tbody>\n",
       "    <tr>\n",
       "      <th>0</th>\n",
       "      <td>desktop</td>\n",
       "      <td>2642573</td>\n",
       "      <td>0.123770</td>\n",
       "    </tr>\n",
       "    <tr>\n",
       "      <th>1</th>\n",
       "      <td>mobile</td>\n",
       "      <td>713646</td>\n",
       "      <td>0.151966</td>\n",
       "    </tr>\n",
       "    <tr>\n",
       "      <th>2</th>\n",
       "      <td>tablet</td>\n",
       "      <td>122247</td>\n",
       "      <td>0.123586</td>\n",
       "    </tr>\n",
       "  </tbody>\n",
       "</table>\n",
       "</div>"
      ],
      "text/plain": [
       "    device  sessions  bounce_rate\n",
       "0  desktop   2642573     0.123770\n",
       "1   mobile    713646     0.151966\n",
       "2   tablet    122247     0.123586"
      ]
     },
     "execution_count": 13,
     "metadata": {},
     "output_type": "execute_result"
    }
   ],
   "source": [
    "query = \"\"\"\n",
    "SELECT\n",
    "  device.deviceCategory device,\n",
    "  COUNT(*) sessions,\n",
    "  SUM(totals.bounces) / COUNT(*) bounce_rate\n",
    "FROM `bigquery-public-data.google_analytics_sample.ga_sessions_*` h, UNNEST(h.hits) hit\n",
    "WHERE _TABLE_SUFFIX BETWEEN '20160801' AND '20170801'\n",
    "  AND hit.type = 'PAGE'\n",
    "GROUP BY device\n",
    "ORDER BY sessions DESC\n",
    "\"\"\"\n",
    "\n",
    "df = client.query(query).to_dataframe()\n",
    "df.head()"
   ]
  },
  {
   "cell_type": "markdown",
   "id": "5f59df78",
   "metadata": {},
   "source": [
    "NOTES:\n",
    "- We can see that Mobile is about 2.5% higher than other devices. It's possible that the site is not optimized for mobile viewing."
   ]
  },
  {
   "cell_type": "markdown",
   "id": "00579112",
   "metadata": {},
   "source": [
    "**Traffic Type and Quality**"
   ]
  },
  {
   "cell_type": "code",
   "execution_count": 14,
   "id": "ccf6d7d6",
   "metadata": {},
   "outputs": [
    {
     "data": {
      "text/html": [
       "<div>\n",
       "<style scoped>\n",
       "    .dataframe tbody tr th:only-of-type {\n",
       "        vertical-align: middle;\n",
       "    }\n",
       "\n",
       "    .dataframe tbody tr th {\n",
       "        vertical-align: top;\n",
       "    }\n",
       "\n",
       "    .dataframe thead th {\n",
       "        text-align: right;\n",
       "    }\n",
       "</style>\n",
       "<table border=\"1\" class=\"dataframe\">\n",
       "  <thead>\n",
       "    <tr style=\"text-align: right;\">\n",
       "      <th></th>\n",
       "      <th>medium</th>\n",
       "      <th>sessions</th>\n",
       "      <th>bounce_rate</th>\n",
       "      <th>transactions</th>\n",
       "      <th>total_revenue_permillion</th>\n",
       "      <th>conversion_rate</th>\n",
       "    </tr>\n",
       "  </thead>\n",
       "  <tbody>\n",
       "    <tr>\n",
       "      <th>0</th>\n",
       "      <td>(none)</td>\n",
       "      <td>2246040</td>\n",
       "      <td>0.069684</td>\n",
       "      <td>363228</td>\n",
       "      <td>69842914.68</td>\n",
       "      <td>0.161719</td>\n",
       "    </tr>\n",
       "    <tr>\n",
       "      <th>1</th>\n",
       "      <td>organic</td>\n",
       "      <td>1141113</td>\n",
       "      <td>0.101857</td>\n",
       "      <td>97332</td>\n",
       "      <td>19504702.25</td>\n",
       "      <td>0.085296</td>\n",
       "    </tr>\n",
       "    <tr>\n",
       "      <th>2</th>\n",
       "      <td>referral</td>\n",
       "      <td>580309</td>\n",
       "      <td>0.285806</td>\n",
       "      <td>22040</td>\n",
       "      <td>3501224.27</td>\n",
       "      <td>0.037980</td>\n",
       "    </tr>\n",
       "    <tr>\n",
       "      <th>3</th>\n",
       "      <td>cpc</td>\n",
       "      <td>88591</td>\n",
       "      <td>0.055028</td>\n",
       "      <td>9457</td>\n",
       "      <td>1528330.72</td>\n",
       "      <td>0.106749</td>\n",
       "    </tr>\n",
       "    <tr>\n",
       "      <th>4</th>\n",
       "      <td>affiliate</td>\n",
       "      <td>55860</td>\n",
       "      <td>0.157698</td>\n",
       "      <td>334</td>\n",
       "      <td>29118.69</td>\n",
       "      <td>0.005979</td>\n",
       "    </tr>\n",
       "    <tr>\n",
       "      <th>5</th>\n",
       "      <td>cpm</td>\n",
       "      <td>41253</td>\n",
       "      <td>0.054372</td>\n",
       "      <td>5951</td>\n",
       "      <td>8676307.66</td>\n",
       "      <td>0.144256</td>\n",
       "    </tr>\n",
       "    <tr>\n",
       "      <th>6</th>\n",
       "      <td>(not set)</td>\n",
       "      <td>509</td>\n",
       "      <td>0.108055</td>\n",
       "      <td>17</td>\n",
       "      <td>203.83</td>\n",
       "      <td>0.033399</td>\n",
       "    </tr>\n",
       "  </tbody>\n",
       "</table>\n",
       "</div>"
      ],
      "text/plain": [
       "      medium  sessions  bounce_rate  transactions  total_revenue_permillion  \\\n",
       "0     (none)   2246040     0.069684        363228               69842914.68   \n",
       "1    organic   1141113     0.101857         97332               19504702.25   \n",
       "2   referral    580309     0.285806         22040                3501224.27   \n",
       "3        cpc     88591     0.055028          9457                1528330.72   \n",
       "4  affiliate     55860     0.157698           334                  29118.69   \n",
       "5        cpm     41253     0.054372          5951                8676307.66   \n",
       "6  (not set)       509     0.108055            17                    203.83   \n",
       "\n",
       "   conversion_rate  \n",
       "0         0.161719  \n",
       "1         0.085296  \n",
       "2         0.037980  \n",
       "3         0.106749  \n",
       "4         0.005979  \n",
       "5         0.144256  \n",
       "6         0.033399  "
      ]
     },
     "execution_count": 14,
     "metadata": {},
     "output_type": "execute_result"
    }
   ],
   "source": [
    "query = \"\"\"\n",
    "SELECT\n",
    "  trafficSource.medium medium,\n",
    "  COUNT(*) sessions,\n",
    "  SUM(totals.bounces) / COUNT(*) bounce_rate,\n",
    "  SUM(totals.transactions) transactions,\n",
    "  SUM(totals.totalTransactionRevenue) / 1000000 total_revenue_permillion,\n",
    "  SUM(totals.transactions) / COUNT(*) conversion_rate\n",
    "FROM `bigquery-public-data.google_analytics_sample.ga_sessions_*` h, UNNEST(h.hits) hit\n",
    "WHERE _TABLE_SUFFIX BETWEEN '20160801' AND '20170801'\n",
    "GROUP BY medium\n",
    "ORDER BY\n",
    "  sessions DESC\n",
    "\"\"\"\n",
    "\n",
    "df = client.query(query).to_dataframe()\n",
    "df.head(10)"
   ]
  },
  {
   "cell_type": "markdown",
   "id": "8cb10797",
   "metadata": {},
   "source": [
    "NOTES:\n",
    "- It looks like the most traffic is either Organic or Referral\n",
    "- The conversion rate for CPC and CPM is quite high compared to other sources.\n",
    "- The conversion rate refers to the percentage of sessions that resulted in a transaction being completed."
   ]
  },
  {
   "cell_type": "markdown",
   "id": "8cbe8715",
   "metadata": {},
   "source": [
    "**Identify Conversion Path and Possible Bottlenecks**"
   ]
  },
  {
   "cell_type": "code",
   "execution_count": 21,
   "id": "1dfd072a",
   "metadata": {},
   "outputs": [
    {
     "data": {
      "text/html": [
       "<div>\n",
       "<style scoped>\n",
       "    .dataframe tbody tr th:only-of-type {\n",
       "        vertical-align: middle;\n",
       "    }\n",
       "\n",
       "    .dataframe tbody tr th {\n",
       "        vertical-align: top;\n",
       "    }\n",
       "\n",
       "    .dataframe thead th {\n",
       "        text-align: right;\n",
       "    }\n",
       "</style>\n",
       "<table border=\"1\" class=\"dataframe\">\n",
       "  <thead>\n",
       "    <tr style=\"text-align: right;\">\n",
       "      <th></th>\n",
       "      <th>action</th>\n",
       "      <th>users</th>\n",
       "    </tr>\n",
       "  </thead>\n",
       "  <tbody>\n",
       "    <tr>\n",
       "      <th>0</th>\n",
       "      <td>Click through of product lists</td>\n",
       "      <td>445760</td>\n",
       "    </tr>\n",
       "    <tr>\n",
       "      <th>1</th>\n",
       "      <td>Product detail views</td>\n",
       "      <td>362607</td>\n",
       "    </tr>\n",
       "    <tr>\n",
       "      <th>2</th>\n",
       "      <td>Check out</td>\n",
       "      <td>248936</td>\n",
       "    </tr>\n",
       "    <tr>\n",
       "      <th>3</th>\n",
       "      <td>Completed purchase</td>\n",
       "      <td>74457</td>\n",
       "    </tr>\n",
       "  </tbody>\n",
       "</table>\n",
       "</div>"
      ],
      "text/plain": [
       "                           action   users\n",
       "0  Click through of product lists  445760\n",
       "1            Product detail views  362607\n",
       "2                       Check out  248936\n",
       "3              Completed purchase   74457"
      ]
     },
     "execution_count": 21,
     "metadata": {},
     "output_type": "execute_result"
    }
   ],
   "source": [
    "query = \"\"\"\n",
    "SELECT\n",
    "  CASE \n",
    "    WHEN hit.eCommerceAction.action_type = '1' THEN 'Click through of product lists'\n",
    "    WHEN hit.eCommerceAction.action_type = '2' THEN 'Product detail views'\n",
    "    WHEN hit.eCommerceAction.action_type = '5' THEN 'Check out'\n",
    "    WHEN hit.eCommerceAction.action_type = '6' THEN 'Completed purchase'\n",
    "  END action,\n",
    "  COUNT(*) users\n",
    "FROM `bigquery-public-data.google_analytics_sample.ga_sessions_*` h,\n",
    "  UNNEST(h.hits) hit,\n",
    "  UNNEST(hit.product) product\n",
    "WHERE \n",
    "  _TABLE_SUFFIX BETWEEN '20160801' AND '20170801'\n",
    "  AND\n",
    "    (\n",
    "      hit.eCommerceAction.action_type != '0'\n",
    "      AND\n",
    "      hit.eCommerceAction.action_type != '3'\n",
    "      AND\n",
    "      hit.eCommerceAction.action_type != '4'\n",
    "    )\n",
    "    GROUP BY action\n",
    "    ORDER BY users DESC\n",
    "\"\"\"\n",
    "\n",
    "df = client.query(query).to_dataframe()\n",
    "df.head()"
   ]
  },
  {
   "cell_type": "markdown",
   "id": "8808db33",
   "metadata": {},
   "source": [
    "NOTES:\n",
    "\n",
    "In this query:\n",
    "\n",
    "- The UNNEST(hit.product) operation will flatten the nested product array within each hit.\n",
    "- This means for each hit, the number of rows generated will be multiplied by the number of products in the hit.product array.\n",
    "- As a result, if a hit contains multiple products, it will contribute multiple rows to the aggregation."
   ]
  },
  {
   "cell_type": "code",
   "execution_count": 22,
   "id": "b1e242fe",
   "metadata": {},
   "outputs": [
    {
     "data": {
      "application/vnd.plotly.v1+json": {
       "config": {
        "plotlyServerURL": "https://plot.ly"
       },
       "data": [
        {
         "textinfo": "value+percent initial",
         "textposition": "inside",
         "type": "funnel",
         "x": [
          445760,
          362607,
          248936,
          74457
         ],
         "y": [
          "Click through of product lists",
          "Product detail views",
          "Check out",
          "Completed purchase"
         ]
        }
       ],
       "layout": {
        "showlegend": false,
        "template": {
         "data": {
          "bar": [
           {
            "error_x": {
             "color": "#2a3f5f"
            },
            "error_y": {
             "color": "#2a3f5f"
            },
            "marker": {
             "line": {
              "color": "#E5ECF6",
              "width": 0.5
             },
             "pattern": {
              "fillmode": "overlay",
              "size": 10,
              "solidity": 0.2
             }
            },
            "type": "bar"
           }
          ],
          "barpolar": [
           {
            "marker": {
             "line": {
              "color": "#E5ECF6",
              "width": 0.5
             },
             "pattern": {
              "fillmode": "overlay",
              "size": 10,
              "solidity": 0.2
             }
            },
            "type": "barpolar"
           }
          ],
          "carpet": [
           {
            "aaxis": {
             "endlinecolor": "#2a3f5f",
             "gridcolor": "white",
             "linecolor": "white",
             "minorgridcolor": "white",
             "startlinecolor": "#2a3f5f"
            },
            "baxis": {
             "endlinecolor": "#2a3f5f",
             "gridcolor": "white",
             "linecolor": "white",
             "minorgridcolor": "white",
             "startlinecolor": "#2a3f5f"
            },
            "type": "carpet"
           }
          ],
          "choropleth": [
           {
            "colorbar": {
             "outlinewidth": 0,
             "ticks": ""
            },
            "type": "choropleth"
           }
          ],
          "contour": [
           {
            "colorbar": {
             "outlinewidth": 0,
             "ticks": ""
            },
            "colorscale": [
             [
              0,
              "#0d0887"
             ],
             [
              0.1111111111111111,
              "#46039f"
             ],
             [
              0.2222222222222222,
              "#7201a8"
             ],
             [
              0.3333333333333333,
              "#9c179e"
             ],
             [
              0.4444444444444444,
              "#bd3786"
             ],
             [
              0.5555555555555556,
              "#d8576b"
             ],
             [
              0.6666666666666666,
              "#ed7953"
             ],
             [
              0.7777777777777778,
              "#fb9f3a"
             ],
             [
              0.8888888888888888,
              "#fdca26"
             ],
             [
              1,
              "#f0f921"
             ]
            ],
            "type": "contour"
           }
          ],
          "contourcarpet": [
           {
            "colorbar": {
             "outlinewidth": 0,
             "ticks": ""
            },
            "type": "contourcarpet"
           }
          ],
          "heatmap": [
           {
            "colorbar": {
             "outlinewidth": 0,
             "ticks": ""
            },
            "colorscale": [
             [
              0,
              "#0d0887"
             ],
             [
              0.1111111111111111,
              "#46039f"
             ],
             [
              0.2222222222222222,
              "#7201a8"
             ],
             [
              0.3333333333333333,
              "#9c179e"
             ],
             [
              0.4444444444444444,
              "#bd3786"
             ],
             [
              0.5555555555555556,
              "#d8576b"
             ],
             [
              0.6666666666666666,
              "#ed7953"
             ],
             [
              0.7777777777777778,
              "#fb9f3a"
             ],
             [
              0.8888888888888888,
              "#fdca26"
             ],
             [
              1,
              "#f0f921"
             ]
            ],
            "type": "heatmap"
           }
          ],
          "heatmapgl": [
           {
            "colorbar": {
             "outlinewidth": 0,
             "ticks": ""
            },
            "colorscale": [
             [
              0,
              "#0d0887"
             ],
             [
              0.1111111111111111,
              "#46039f"
             ],
             [
              0.2222222222222222,
              "#7201a8"
             ],
             [
              0.3333333333333333,
              "#9c179e"
             ],
             [
              0.4444444444444444,
              "#bd3786"
             ],
             [
              0.5555555555555556,
              "#d8576b"
             ],
             [
              0.6666666666666666,
              "#ed7953"
             ],
             [
              0.7777777777777778,
              "#fb9f3a"
             ],
             [
              0.8888888888888888,
              "#fdca26"
             ],
             [
              1,
              "#f0f921"
             ]
            ],
            "type": "heatmapgl"
           }
          ],
          "histogram": [
           {
            "marker": {
             "pattern": {
              "fillmode": "overlay",
              "size": 10,
              "solidity": 0.2
             }
            },
            "type": "histogram"
           }
          ],
          "histogram2d": [
           {
            "colorbar": {
             "outlinewidth": 0,
             "ticks": ""
            },
            "colorscale": [
             [
              0,
              "#0d0887"
             ],
             [
              0.1111111111111111,
              "#46039f"
             ],
             [
              0.2222222222222222,
              "#7201a8"
             ],
             [
              0.3333333333333333,
              "#9c179e"
             ],
             [
              0.4444444444444444,
              "#bd3786"
             ],
             [
              0.5555555555555556,
              "#d8576b"
             ],
             [
              0.6666666666666666,
              "#ed7953"
             ],
             [
              0.7777777777777778,
              "#fb9f3a"
             ],
             [
              0.8888888888888888,
              "#fdca26"
             ],
             [
              1,
              "#f0f921"
             ]
            ],
            "type": "histogram2d"
           }
          ],
          "histogram2dcontour": [
           {
            "colorbar": {
             "outlinewidth": 0,
             "ticks": ""
            },
            "colorscale": [
             [
              0,
              "#0d0887"
             ],
             [
              0.1111111111111111,
              "#46039f"
             ],
             [
              0.2222222222222222,
              "#7201a8"
             ],
             [
              0.3333333333333333,
              "#9c179e"
             ],
             [
              0.4444444444444444,
              "#bd3786"
             ],
             [
              0.5555555555555556,
              "#d8576b"
             ],
             [
              0.6666666666666666,
              "#ed7953"
             ],
             [
              0.7777777777777778,
              "#fb9f3a"
             ],
             [
              0.8888888888888888,
              "#fdca26"
             ],
             [
              1,
              "#f0f921"
             ]
            ],
            "type": "histogram2dcontour"
           }
          ],
          "mesh3d": [
           {
            "colorbar": {
             "outlinewidth": 0,
             "ticks": ""
            },
            "type": "mesh3d"
           }
          ],
          "parcoords": [
           {
            "line": {
             "colorbar": {
              "outlinewidth": 0,
              "ticks": ""
             }
            },
            "type": "parcoords"
           }
          ],
          "pie": [
           {
            "automargin": true,
            "type": "pie"
           }
          ],
          "scatter": [
           {
            "fillpattern": {
             "fillmode": "overlay",
             "size": 10,
             "solidity": 0.2
            },
            "type": "scatter"
           }
          ],
          "scatter3d": [
           {
            "line": {
             "colorbar": {
              "outlinewidth": 0,
              "ticks": ""
             }
            },
            "marker": {
             "colorbar": {
              "outlinewidth": 0,
              "ticks": ""
             }
            },
            "type": "scatter3d"
           }
          ],
          "scattercarpet": [
           {
            "marker": {
             "colorbar": {
              "outlinewidth": 0,
              "ticks": ""
             }
            },
            "type": "scattercarpet"
           }
          ],
          "scattergeo": [
           {
            "marker": {
             "colorbar": {
              "outlinewidth": 0,
              "ticks": ""
             }
            },
            "type": "scattergeo"
           }
          ],
          "scattergl": [
           {
            "marker": {
             "colorbar": {
              "outlinewidth": 0,
              "ticks": ""
             }
            },
            "type": "scattergl"
           }
          ],
          "scattermapbox": [
           {
            "marker": {
             "colorbar": {
              "outlinewidth": 0,
              "ticks": ""
             }
            },
            "type": "scattermapbox"
           }
          ],
          "scatterpolar": [
           {
            "marker": {
             "colorbar": {
              "outlinewidth": 0,
              "ticks": ""
             }
            },
            "type": "scatterpolar"
           }
          ],
          "scatterpolargl": [
           {
            "marker": {
             "colorbar": {
              "outlinewidth": 0,
              "ticks": ""
             }
            },
            "type": "scatterpolargl"
           }
          ],
          "scatterternary": [
           {
            "marker": {
             "colorbar": {
              "outlinewidth": 0,
              "ticks": ""
             }
            },
            "type": "scatterternary"
           }
          ],
          "surface": [
           {
            "colorbar": {
             "outlinewidth": 0,
             "ticks": ""
            },
            "colorscale": [
             [
              0,
              "#0d0887"
             ],
             [
              0.1111111111111111,
              "#46039f"
             ],
             [
              0.2222222222222222,
              "#7201a8"
             ],
             [
              0.3333333333333333,
              "#9c179e"
             ],
             [
              0.4444444444444444,
              "#bd3786"
             ],
             [
              0.5555555555555556,
              "#d8576b"
             ],
             [
              0.6666666666666666,
              "#ed7953"
             ],
             [
              0.7777777777777778,
              "#fb9f3a"
             ],
             [
              0.8888888888888888,
              "#fdca26"
             ],
             [
              1,
              "#f0f921"
             ]
            ],
            "type": "surface"
           }
          ],
          "table": [
           {
            "cells": {
             "fill": {
              "color": "#EBF0F8"
             },
             "line": {
              "color": "white"
             }
            },
            "header": {
             "fill": {
              "color": "#C8D4E3"
             },
             "line": {
              "color": "white"
             }
            },
            "type": "table"
           }
          ]
         },
         "layout": {
          "annotationdefaults": {
           "arrowcolor": "#2a3f5f",
           "arrowhead": 0,
           "arrowwidth": 1
          },
          "autotypenumbers": "strict",
          "coloraxis": {
           "colorbar": {
            "outlinewidth": 0,
            "ticks": ""
           }
          },
          "colorscale": {
           "diverging": [
            [
             0,
             "#8e0152"
            ],
            [
             0.1,
             "#c51b7d"
            ],
            [
             0.2,
             "#de77ae"
            ],
            [
             0.3,
             "#f1b6da"
            ],
            [
             0.4,
             "#fde0ef"
            ],
            [
             0.5,
             "#f7f7f7"
            ],
            [
             0.6,
             "#e6f5d0"
            ],
            [
             0.7,
             "#b8e186"
            ],
            [
             0.8,
             "#7fbc41"
            ],
            [
             0.9,
             "#4d9221"
            ],
            [
             1,
             "#276419"
            ]
           ],
           "sequential": [
            [
             0,
             "#0d0887"
            ],
            [
             0.1111111111111111,
             "#46039f"
            ],
            [
             0.2222222222222222,
             "#7201a8"
            ],
            [
             0.3333333333333333,
             "#9c179e"
            ],
            [
             0.4444444444444444,
             "#bd3786"
            ],
            [
             0.5555555555555556,
             "#d8576b"
            ],
            [
             0.6666666666666666,
             "#ed7953"
            ],
            [
             0.7777777777777778,
             "#fb9f3a"
            ],
            [
             0.8888888888888888,
             "#fdca26"
            ],
            [
             1,
             "#f0f921"
            ]
           ],
           "sequentialminus": [
            [
             0,
             "#0d0887"
            ],
            [
             0.1111111111111111,
             "#46039f"
            ],
            [
             0.2222222222222222,
             "#7201a8"
            ],
            [
             0.3333333333333333,
             "#9c179e"
            ],
            [
             0.4444444444444444,
             "#bd3786"
            ],
            [
             0.5555555555555556,
             "#d8576b"
            ],
            [
             0.6666666666666666,
             "#ed7953"
            ],
            [
             0.7777777777777778,
             "#fb9f3a"
            ],
            [
             0.8888888888888888,
             "#fdca26"
            ],
            [
             1,
             "#f0f921"
            ]
           ]
          },
          "colorway": [
           "#636efa",
           "#EF553B",
           "#00cc96",
           "#ab63fa",
           "#FFA15A",
           "#19d3f3",
           "#FF6692",
           "#B6E880",
           "#FF97FF",
           "#FECB52"
          ],
          "font": {
           "color": "#2a3f5f"
          },
          "geo": {
           "bgcolor": "white",
           "lakecolor": "white",
           "landcolor": "#E5ECF6",
           "showlakes": true,
           "showland": true,
           "subunitcolor": "white"
          },
          "hoverlabel": {
           "align": "left"
          },
          "hovermode": "closest",
          "mapbox": {
           "style": "light"
          },
          "paper_bgcolor": "white",
          "plot_bgcolor": "#E5ECF6",
          "polar": {
           "angularaxis": {
            "gridcolor": "white",
            "linecolor": "white",
            "ticks": ""
           },
           "bgcolor": "#E5ECF6",
           "radialaxis": {
            "gridcolor": "white",
            "linecolor": "white",
            "ticks": ""
           }
          },
          "scene": {
           "xaxis": {
            "backgroundcolor": "#E5ECF6",
            "gridcolor": "white",
            "gridwidth": 2,
            "linecolor": "white",
            "showbackground": true,
            "ticks": "",
            "zerolinecolor": "white"
           },
           "yaxis": {
            "backgroundcolor": "#E5ECF6",
            "gridcolor": "white",
            "gridwidth": 2,
            "linecolor": "white",
            "showbackground": true,
            "ticks": "",
            "zerolinecolor": "white"
           },
           "zaxis": {
            "backgroundcolor": "#E5ECF6",
            "gridcolor": "white",
            "gridwidth": 2,
            "linecolor": "white",
            "showbackground": true,
            "ticks": "",
            "zerolinecolor": "white"
           }
          },
          "shapedefaults": {
           "line": {
            "color": "#2a3f5f"
           }
          },
          "ternary": {
           "aaxis": {
            "gridcolor": "white",
            "linecolor": "white",
            "ticks": ""
           },
           "baxis": {
            "gridcolor": "white",
            "linecolor": "white",
            "ticks": ""
           },
           "bgcolor": "#E5ECF6",
           "caxis": {
            "gridcolor": "white",
            "linecolor": "white",
            "ticks": ""
           }
          },
          "title": {
           "x": 0.05
          },
          "xaxis": {
           "automargin": true,
           "gridcolor": "white",
           "linecolor": "white",
           "ticks": "",
           "title": {
            "standoff": 15
           },
           "zerolinecolor": "white",
           "zerolinewidth": 2
          },
          "yaxis": {
           "automargin": true,
           "gridcolor": "white",
           "linecolor": "white",
           "ticks": "",
           "title": {
            "standoff": 15
           },
           "zerolinecolor": "white",
           "zerolinewidth": 2
          }
         }
        },
        "title": {
         "text": "Google Merchandise Store Conversion Path"
        }
       }
      },
      "text/html": [
       "<div>                            <div id=\"3f8e8c18-da1d-41ea-8cb3-97de2e5202cd\" class=\"plotly-graph-div\" style=\"height:525px; width:100%;\"></div>            <script type=\"text/javascript\">                require([\"plotly\"], function(Plotly) {                    window.PLOTLYENV=window.PLOTLYENV || {};                                    if (document.getElementById(\"3f8e8c18-da1d-41ea-8cb3-97de2e5202cd\")) {                    Plotly.newPlot(                        \"3f8e8c18-da1d-41ea-8cb3-97de2e5202cd\",                        [{\"textinfo\":\"value+percent initial\",\"textposition\":\"inside\",\"x\":[445760,362607,248936,74457],\"y\":[\"Click through of product lists\",\"Product detail views\",\"Check out\",\"Completed purchase\"],\"type\":\"funnel\"}],                        {\"template\":{\"data\":{\"histogram2dcontour\":[{\"type\":\"histogram2dcontour\",\"colorbar\":{\"outlinewidth\":0,\"ticks\":\"\"},\"colorscale\":[[0.0,\"#0d0887\"],[0.1111111111111111,\"#46039f\"],[0.2222222222222222,\"#7201a8\"],[0.3333333333333333,\"#9c179e\"],[0.4444444444444444,\"#bd3786\"],[0.5555555555555556,\"#d8576b\"],[0.6666666666666666,\"#ed7953\"],[0.7777777777777778,\"#fb9f3a\"],[0.8888888888888888,\"#fdca26\"],[1.0,\"#f0f921\"]]}],\"choropleth\":[{\"type\":\"choropleth\",\"colorbar\":{\"outlinewidth\":0,\"ticks\":\"\"}}],\"histogram2d\":[{\"type\":\"histogram2d\",\"colorbar\":{\"outlinewidth\":0,\"ticks\":\"\"},\"colorscale\":[[0.0,\"#0d0887\"],[0.1111111111111111,\"#46039f\"],[0.2222222222222222,\"#7201a8\"],[0.3333333333333333,\"#9c179e\"],[0.4444444444444444,\"#bd3786\"],[0.5555555555555556,\"#d8576b\"],[0.6666666666666666,\"#ed7953\"],[0.7777777777777778,\"#fb9f3a\"],[0.8888888888888888,\"#fdca26\"],[1.0,\"#f0f921\"]]}],\"heatmap\":[{\"type\":\"heatmap\",\"colorbar\":{\"outlinewidth\":0,\"ticks\":\"\"},\"colorscale\":[[0.0,\"#0d0887\"],[0.1111111111111111,\"#46039f\"],[0.2222222222222222,\"#7201a8\"],[0.3333333333333333,\"#9c179e\"],[0.4444444444444444,\"#bd3786\"],[0.5555555555555556,\"#d8576b\"],[0.6666666666666666,\"#ed7953\"],[0.7777777777777778,\"#fb9f3a\"],[0.8888888888888888,\"#fdca26\"],[1.0,\"#f0f921\"]]}],\"heatmapgl\":[{\"type\":\"heatmapgl\",\"colorbar\":{\"outlinewidth\":0,\"ticks\":\"\"},\"colorscale\":[[0.0,\"#0d0887\"],[0.1111111111111111,\"#46039f\"],[0.2222222222222222,\"#7201a8\"],[0.3333333333333333,\"#9c179e\"],[0.4444444444444444,\"#bd3786\"],[0.5555555555555556,\"#d8576b\"],[0.6666666666666666,\"#ed7953\"],[0.7777777777777778,\"#fb9f3a\"],[0.8888888888888888,\"#fdca26\"],[1.0,\"#f0f921\"]]}],\"contourcarpet\":[{\"type\":\"contourcarpet\",\"colorbar\":{\"outlinewidth\":0,\"ticks\":\"\"}}],\"contour\":[{\"type\":\"contour\",\"colorbar\":{\"outlinewidth\":0,\"ticks\":\"\"},\"colorscale\":[[0.0,\"#0d0887\"],[0.1111111111111111,\"#46039f\"],[0.2222222222222222,\"#7201a8\"],[0.3333333333333333,\"#9c179e\"],[0.4444444444444444,\"#bd3786\"],[0.5555555555555556,\"#d8576b\"],[0.6666666666666666,\"#ed7953\"],[0.7777777777777778,\"#fb9f3a\"],[0.8888888888888888,\"#fdca26\"],[1.0,\"#f0f921\"]]}],\"surface\":[{\"type\":\"surface\",\"colorbar\":{\"outlinewidth\":0,\"ticks\":\"\"},\"colorscale\":[[0.0,\"#0d0887\"],[0.1111111111111111,\"#46039f\"],[0.2222222222222222,\"#7201a8\"],[0.3333333333333333,\"#9c179e\"],[0.4444444444444444,\"#bd3786\"],[0.5555555555555556,\"#d8576b\"],[0.6666666666666666,\"#ed7953\"],[0.7777777777777778,\"#fb9f3a\"],[0.8888888888888888,\"#fdca26\"],[1.0,\"#f0f921\"]]}],\"mesh3d\":[{\"type\":\"mesh3d\",\"colorbar\":{\"outlinewidth\":0,\"ticks\":\"\"}}],\"scatter\":[{\"fillpattern\":{\"fillmode\":\"overlay\",\"size\":10,\"solidity\":0.2},\"type\":\"scatter\"}],\"parcoords\":[{\"type\":\"parcoords\",\"line\":{\"colorbar\":{\"outlinewidth\":0,\"ticks\":\"\"}}}],\"scatterpolargl\":[{\"type\":\"scatterpolargl\",\"marker\":{\"colorbar\":{\"outlinewidth\":0,\"ticks\":\"\"}}}],\"bar\":[{\"error_x\":{\"color\":\"#2a3f5f\"},\"error_y\":{\"color\":\"#2a3f5f\"},\"marker\":{\"line\":{\"color\":\"#E5ECF6\",\"width\":0.5},\"pattern\":{\"fillmode\":\"overlay\",\"size\":10,\"solidity\":0.2}},\"type\":\"bar\"}],\"scattergeo\":[{\"type\":\"scattergeo\",\"marker\":{\"colorbar\":{\"outlinewidth\":0,\"ticks\":\"\"}}}],\"scatterpolar\":[{\"type\":\"scatterpolar\",\"marker\":{\"colorbar\":{\"outlinewidth\":0,\"ticks\":\"\"}}}],\"histogram\":[{\"marker\":{\"pattern\":{\"fillmode\":\"overlay\",\"size\":10,\"solidity\":0.2}},\"type\":\"histogram\"}],\"scattergl\":[{\"type\":\"scattergl\",\"marker\":{\"colorbar\":{\"outlinewidth\":0,\"ticks\":\"\"}}}],\"scatter3d\":[{\"type\":\"scatter3d\",\"line\":{\"colorbar\":{\"outlinewidth\":0,\"ticks\":\"\"}},\"marker\":{\"colorbar\":{\"outlinewidth\":0,\"ticks\":\"\"}}}],\"scattermapbox\":[{\"type\":\"scattermapbox\",\"marker\":{\"colorbar\":{\"outlinewidth\":0,\"ticks\":\"\"}}}],\"scatterternary\":[{\"type\":\"scatterternary\",\"marker\":{\"colorbar\":{\"outlinewidth\":0,\"ticks\":\"\"}}}],\"scattercarpet\":[{\"type\":\"scattercarpet\",\"marker\":{\"colorbar\":{\"outlinewidth\":0,\"ticks\":\"\"}}}],\"carpet\":[{\"aaxis\":{\"endlinecolor\":\"#2a3f5f\",\"gridcolor\":\"white\",\"linecolor\":\"white\",\"minorgridcolor\":\"white\",\"startlinecolor\":\"#2a3f5f\"},\"baxis\":{\"endlinecolor\":\"#2a3f5f\",\"gridcolor\":\"white\",\"linecolor\":\"white\",\"minorgridcolor\":\"white\",\"startlinecolor\":\"#2a3f5f\"},\"type\":\"carpet\"}],\"table\":[{\"cells\":{\"fill\":{\"color\":\"#EBF0F8\"},\"line\":{\"color\":\"white\"}},\"header\":{\"fill\":{\"color\":\"#C8D4E3\"},\"line\":{\"color\":\"white\"}},\"type\":\"table\"}],\"barpolar\":[{\"marker\":{\"line\":{\"color\":\"#E5ECF6\",\"width\":0.5},\"pattern\":{\"fillmode\":\"overlay\",\"size\":10,\"solidity\":0.2}},\"type\":\"barpolar\"}],\"pie\":[{\"automargin\":true,\"type\":\"pie\"}]},\"layout\":{\"autotypenumbers\":\"strict\",\"colorway\":[\"#636efa\",\"#EF553B\",\"#00cc96\",\"#ab63fa\",\"#FFA15A\",\"#19d3f3\",\"#FF6692\",\"#B6E880\",\"#FF97FF\",\"#FECB52\"],\"font\":{\"color\":\"#2a3f5f\"},\"hovermode\":\"closest\",\"hoverlabel\":{\"align\":\"left\"},\"paper_bgcolor\":\"white\",\"plot_bgcolor\":\"#E5ECF6\",\"polar\":{\"bgcolor\":\"#E5ECF6\",\"angularaxis\":{\"gridcolor\":\"white\",\"linecolor\":\"white\",\"ticks\":\"\"},\"radialaxis\":{\"gridcolor\":\"white\",\"linecolor\":\"white\",\"ticks\":\"\"}},\"ternary\":{\"bgcolor\":\"#E5ECF6\",\"aaxis\":{\"gridcolor\":\"white\",\"linecolor\":\"white\",\"ticks\":\"\"},\"baxis\":{\"gridcolor\":\"white\",\"linecolor\":\"white\",\"ticks\":\"\"},\"caxis\":{\"gridcolor\":\"white\",\"linecolor\":\"white\",\"ticks\":\"\"}},\"coloraxis\":{\"colorbar\":{\"outlinewidth\":0,\"ticks\":\"\"}},\"colorscale\":{\"sequential\":[[0.0,\"#0d0887\"],[0.1111111111111111,\"#46039f\"],[0.2222222222222222,\"#7201a8\"],[0.3333333333333333,\"#9c179e\"],[0.4444444444444444,\"#bd3786\"],[0.5555555555555556,\"#d8576b\"],[0.6666666666666666,\"#ed7953\"],[0.7777777777777778,\"#fb9f3a\"],[0.8888888888888888,\"#fdca26\"],[1.0,\"#f0f921\"]],\"sequentialminus\":[[0.0,\"#0d0887\"],[0.1111111111111111,\"#46039f\"],[0.2222222222222222,\"#7201a8\"],[0.3333333333333333,\"#9c179e\"],[0.4444444444444444,\"#bd3786\"],[0.5555555555555556,\"#d8576b\"],[0.6666666666666666,\"#ed7953\"],[0.7777777777777778,\"#fb9f3a\"],[0.8888888888888888,\"#fdca26\"],[1.0,\"#f0f921\"]],\"diverging\":[[0,\"#8e0152\"],[0.1,\"#c51b7d\"],[0.2,\"#de77ae\"],[0.3,\"#f1b6da\"],[0.4,\"#fde0ef\"],[0.5,\"#f7f7f7\"],[0.6,\"#e6f5d0\"],[0.7,\"#b8e186\"],[0.8,\"#7fbc41\"],[0.9,\"#4d9221\"],[1,\"#276419\"]]},\"xaxis\":{\"gridcolor\":\"white\",\"linecolor\":\"white\",\"ticks\":\"\",\"title\":{\"standoff\":15},\"zerolinecolor\":\"white\",\"automargin\":true,\"zerolinewidth\":2},\"yaxis\":{\"gridcolor\":\"white\",\"linecolor\":\"white\",\"ticks\":\"\",\"title\":{\"standoff\":15},\"zerolinecolor\":\"white\",\"automargin\":true,\"zerolinewidth\":2},\"scene\":{\"xaxis\":{\"backgroundcolor\":\"#E5ECF6\",\"gridcolor\":\"white\",\"linecolor\":\"white\",\"showbackground\":true,\"ticks\":\"\",\"zerolinecolor\":\"white\",\"gridwidth\":2},\"yaxis\":{\"backgroundcolor\":\"#E5ECF6\",\"gridcolor\":\"white\",\"linecolor\":\"white\",\"showbackground\":true,\"ticks\":\"\",\"zerolinecolor\":\"white\",\"gridwidth\":2},\"zaxis\":{\"backgroundcolor\":\"#E5ECF6\",\"gridcolor\":\"white\",\"linecolor\":\"white\",\"showbackground\":true,\"ticks\":\"\",\"zerolinecolor\":\"white\",\"gridwidth\":2}},\"shapedefaults\":{\"line\":{\"color\":\"#2a3f5f\"}},\"annotationdefaults\":{\"arrowcolor\":\"#2a3f5f\",\"arrowhead\":0,\"arrowwidth\":1},\"geo\":{\"bgcolor\":\"white\",\"landcolor\":\"#E5ECF6\",\"subunitcolor\":\"white\",\"showland\":true,\"showlakes\":true,\"lakecolor\":\"white\"},\"title\":{\"x\":0.05},\"mapbox\":{\"style\":\"light\"}}},\"title\":{\"text\":\"Google Merchandise Store Conversion Path\"},\"showlegend\":false},                        {\"responsive\": true}                    ).then(function(){\n",
       "                            \n",
       "var gd = document.getElementById('3f8e8c18-da1d-41ea-8cb3-97de2e5202cd');\n",
       "var x = new MutationObserver(function (mutations, observer) {{\n",
       "        var display = window.getComputedStyle(gd).display;\n",
       "        if (!display || display === 'none') {{\n",
       "            console.log([gd, 'removed!']);\n",
       "            Plotly.purge(gd);\n",
       "            observer.disconnect();\n",
       "        }}\n",
       "}});\n",
       "\n",
       "// Listen for the removal of the full notebook cells\n",
       "var notebookContainer = gd.closest('#notebook-container');\n",
       "if (notebookContainer) {{\n",
       "    x.observe(notebookContainer, {childList: true});\n",
       "}}\n",
       "\n",
       "// Listen for the clearing of the current output cell\n",
       "var outputEl = gd.closest('.output');\n",
       "if (outputEl) {{\n",
       "    x.observe(outputEl, {childList: true});\n",
       "}}\n",
       "\n",
       "                        })                };                });            </script>        </div>"
      ]
     },
     "metadata": {},
     "output_type": "display_data"
    }
   ],
   "source": [
    "fig = go.Figure(go.Funnel(\n",
    "    y = df['action'],\n",
    "    x = df['users'],\n",
    "    textposition='inside',\n",
    "    textinfo = \"value+percent initial\"\n",
    "))\n",
    "\n",
    "fig.update_layout(\n",
    "    title=\"Google Merchandise Store Conversion Path\",\n",
    "    showlegend=False\n",
    ")\n",
    "\n",
    "# Show the plot\n",
    "fig.show()"
   ]
  },
  {
   "cell_type": "markdown",
   "id": "5740ef42",
   "metadata": {},
   "source": [
    "NOTES:\n",
    "\n",
    "- 69% of users who viewed the product details proceeded to the check out page.\n",
    "\n",
    "- We can see however that of those users, only 30% actually completed a purchase."
   ]
  },
  {
   "cell_type": "code",
   "execution_count": null,
   "id": "4cf0c2bf",
   "metadata": {},
   "outputs": [],
   "source": []
  }
 ],
 "metadata": {
  "kernelspec": {
   "display_name": "Python 3 (ipykernel)",
   "language": "python",
   "name": "python3"
  },
  "language_info": {
   "codemirror_mode": {
    "name": "ipython",
    "version": 3
   },
   "file_extension": ".py",
   "mimetype": "text/x-python",
   "name": "python",
   "nbconvert_exporter": "python",
   "pygments_lexer": "ipython3",
   "version": "3.11.4"
  }
 },
 "nbformat": 4,
 "nbformat_minor": 5
}
